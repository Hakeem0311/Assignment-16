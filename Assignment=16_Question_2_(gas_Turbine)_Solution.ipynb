{
  "nbformat": 4,
  "nbformat_minor": 0,
  "metadata": {
    "colab": {
      "provenance": []
    },
    "kernelspec": {
      "name": "python3",
      "display_name": "Python 3"
    },
    "language_info": {
      "name": "python"
    }
  },
  "cells": [
    {
      "cell_type": "markdown",
      "source": [
        "# Predicting turbine energy yield (TEY) using ambient variables as features.\n"
      ],
      "metadata": {
        "id": "WOgr4xnLEVqW"
      }
    },
    {
      "cell_type": "markdown",
      "source": [
        "## Import libraries\n",
        "\n",
        "\n"
      ],
      "metadata": {
        "id": "bnp4K_B4EWl5"
      }
    },
    {
      "cell_type": "code",
      "execution_count": 1,
      "metadata": {
        "id": "P9lYdrJpD1dH"
      },
      "outputs": [],
      "source": [
        "import keras \n",
        "import pandas as pd\n",
        "import numpy as np\n",
        "from sklearn.model_selection import train_test_split, cross_val_score\n",
        "import seaborn as sns\n",
        "from matplotlib import pyplot as plt\n",
        "%matplotlib inline\n",
        "from keras.models import Sequential\n",
        "from keras.layers import Dense\n",
        "import tensorflow as tf\n",
        "tf.debugging.set_log_device_placement(False) \n",
        "import warnings\n",
        "warnings.filterwarnings('ignore')"
      ]
    },
    {
      "cell_type": "code",
      "source": [
        "# Generating reproducible results from same code\n",
        "tf.random.set_seed(14) "
      ],
      "metadata": {
        "id": "rRtRU463Eol8"
      },
      "execution_count": 3,
      "outputs": []
    },
    {
      "cell_type": "code",
      "source": [
        "raw = pd.read_csv('gas_turbines.csv')\n",
        "raw.head() \n",
        "#TEY is the variable we should predict."
      ],
      "metadata": {
        "colab": {
          "base_uri": "https://localhost:8080/",
          "height": 270
        },
        "id": "X-Ii1_lYEybS",
        "outputId": "b4071a11-2b8c-4a97-ee47-49cc0b05e9dc"
      },
      "execution_count": 4,
      "outputs": [
        {
          "output_type": "execute_result",
          "data": {
            "text/plain": [
              "       AT      AP      AH    AFDP    GTEP     TIT     TAT     TEY     CDP  \\\n",
              "0  6.8594  1007.9  96.799  3.5000  19.663  1059.2  550.00  114.70  10.605   \n",
              "1  6.7850  1008.4  97.118  3.4998  19.728  1059.3  550.00  114.72  10.598   \n",
              "2  6.8977  1008.8  95.939  3.4824  19.779  1059.4  549.87  114.71  10.601   \n",
              "3  7.0569  1009.2  95.249  3.4805  19.792  1059.6  549.99  114.72  10.606   \n",
              "4  7.3978  1009.7  95.150  3.4976  19.765  1059.7  549.98  114.72  10.612   \n",
              "\n",
              "       CO     NOX  \n",
              "0  3.1547  82.722  \n",
              "1  3.2363  82.776  \n",
              "2  3.2012  82.468  \n",
              "3  3.1923  82.670  \n",
              "4  3.2484  82.311  "
            ],
            "text/html": [
              "\n",
              "  <div id=\"df-e3d278bf-2e6c-417d-8d68-a6339745bc16\">\n",
              "    <div class=\"colab-df-container\">\n",
              "      <div>\n",
              "<style scoped>\n",
              "    .dataframe tbody tr th:only-of-type {\n",
              "        vertical-align: middle;\n",
              "    }\n",
              "\n",
              "    .dataframe tbody tr th {\n",
              "        vertical-align: top;\n",
              "    }\n",
              "\n",
              "    .dataframe thead th {\n",
              "        text-align: right;\n",
              "    }\n",
              "</style>\n",
              "<table border=\"1\" class=\"dataframe\">\n",
              "  <thead>\n",
              "    <tr style=\"text-align: right;\">\n",
              "      <th></th>\n",
              "      <th>AT</th>\n",
              "      <th>AP</th>\n",
              "      <th>AH</th>\n",
              "      <th>AFDP</th>\n",
              "      <th>GTEP</th>\n",
              "      <th>TIT</th>\n",
              "      <th>TAT</th>\n",
              "      <th>TEY</th>\n",
              "      <th>CDP</th>\n",
              "      <th>CO</th>\n",
              "      <th>NOX</th>\n",
              "    </tr>\n",
              "  </thead>\n",
              "  <tbody>\n",
              "    <tr>\n",
              "      <th>0</th>\n",
              "      <td>6.8594</td>\n",
              "      <td>1007.9</td>\n",
              "      <td>96.799</td>\n",
              "      <td>3.5000</td>\n",
              "      <td>19.663</td>\n",
              "      <td>1059.2</td>\n",
              "      <td>550.00</td>\n",
              "      <td>114.70</td>\n",
              "      <td>10.605</td>\n",
              "      <td>3.1547</td>\n",
              "      <td>82.722</td>\n",
              "    </tr>\n",
              "    <tr>\n",
              "      <th>1</th>\n",
              "      <td>6.7850</td>\n",
              "      <td>1008.4</td>\n",
              "      <td>97.118</td>\n",
              "      <td>3.4998</td>\n",
              "      <td>19.728</td>\n",
              "      <td>1059.3</td>\n",
              "      <td>550.00</td>\n",
              "      <td>114.72</td>\n",
              "      <td>10.598</td>\n",
              "      <td>3.2363</td>\n",
              "      <td>82.776</td>\n",
              "    </tr>\n",
              "    <tr>\n",
              "      <th>2</th>\n",
              "      <td>6.8977</td>\n",
              "      <td>1008.8</td>\n",
              "      <td>95.939</td>\n",
              "      <td>3.4824</td>\n",
              "      <td>19.779</td>\n",
              "      <td>1059.4</td>\n",
              "      <td>549.87</td>\n",
              "      <td>114.71</td>\n",
              "      <td>10.601</td>\n",
              "      <td>3.2012</td>\n",
              "      <td>82.468</td>\n",
              "    </tr>\n",
              "    <tr>\n",
              "      <th>3</th>\n",
              "      <td>7.0569</td>\n",
              "      <td>1009.2</td>\n",
              "      <td>95.249</td>\n",
              "      <td>3.4805</td>\n",
              "      <td>19.792</td>\n",
              "      <td>1059.6</td>\n",
              "      <td>549.99</td>\n",
              "      <td>114.72</td>\n",
              "      <td>10.606</td>\n",
              "      <td>3.1923</td>\n",
              "      <td>82.670</td>\n",
              "    </tr>\n",
              "    <tr>\n",
              "      <th>4</th>\n",
              "      <td>7.3978</td>\n",
              "      <td>1009.7</td>\n",
              "      <td>95.150</td>\n",
              "      <td>3.4976</td>\n",
              "      <td>19.765</td>\n",
              "      <td>1059.7</td>\n",
              "      <td>549.98</td>\n",
              "      <td>114.72</td>\n",
              "      <td>10.612</td>\n",
              "      <td>3.2484</td>\n",
              "      <td>82.311</td>\n",
              "    </tr>\n",
              "  </tbody>\n",
              "</table>\n",
              "</div>\n",
              "      <button class=\"colab-df-convert\" onclick=\"convertToInteractive('df-e3d278bf-2e6c-417d-8d68-a6339745bc16')\"\n",
              "              title=\"Convert this dataframe to an interactive table.\"\n",
              "              style=\"display:none;\">\n",
              "        \n",
              "  <svg xmlns=\"http://www.w3.org/2000/svg\" height=\"24px\"viewBox=\"0 0 24 24\"\n",
              "       width=\"24px\">\n",
              "    <path d=\"M0 0h24v24H0V0z\" fill=\"none\"/>\n",
              "    <path d=\"M18.56 5.44l.94 2.06.94-2.06 2.06-.94-2.06-.94-.94-2.06-.94 2.06-2.06.94zm-11 1L8.5 8.5l.94-2.06 2.06-.94-2.06-.94L8.5 2.5l-.94 2.06-2.06.94zm10 10l.94 2.06.94-2.06 2.06-.94-2.06-.94-.94-2.06-.94 2.06-2.06.94z\"/><path d=\"M17.41 7.96l-1.37-1.37c-.4-.4-.92-.59-1.43-.59-.52 0-1.04.2-1.43.59L10.3 9.45l-7.72 7.72c-.78.78-.78 2.05 0 2.83L4 21.41c.39.39.9.59 1.41.59.51 0 1.02-.2 1.41-.59l7.78-7.78 2.81-2.81c.8-.78.8-2.07 0-2.86zM5.41 20L4 18.59l7.72-7.72 1.47 1.35L5.41 20z\"/>\n",
              "  </svg>\n",
              "      </button>\n",
              "      \n",
              "  <style>\n",
              "    .colab-df-container {\n",
              "      display:flex;\n",
              "      flex-wrap:wrap;\n",
              "      gap: 12px;\n",
              "    }\n",
              "\n",
              "    .colab-df-convert {\n",
              "      background-color: #E8F0FE;\n",
              "      border: none;\n",
              "      border-radius: 50%;\n",
              "      cursor: pointer;\n",
              "      display: none;\n",
              "      fill: #1967D2;\n",
              "      height: 32px;\n",
              "      padding: 0 0 0 0;\n",
              "      width: 32px;\n",
              "    }\n",
              "\n",
              "    .colab-df-convert:hover {\n",
              "      background-color: #E2EBFA;\n",
              "      box-shadow: 0px 1px 2px rgba(60, 64, 67, 0.3), 0px 1px 3px 1px rgba(60, 64, 67, 0.15);\n",
              "      fill: #174EA6;\n",
              "    }\n",
              "\n",
              "    [theme=dark] .colab-df-convert {\n",
              "      background-color: #3B4455;\n",
              "      fill: #D2E3FC;\n",
              "    }\n",
              "\n",
              "    [theme=dark] .colab-df-convert:hover {\n",
              "      background-color: #434B5C;\n",
              "      box-shadow: 0px 1px 3px 1px rgba(0, 0, 0, 0.15);\n",
              "      filter: drop-shadow(0px 1px 2px rgba(0, 0, 0, 0.3));\n",
              "      fill: #FFFFFF;\n",
              "    }\n",
              "  </style>\n",
              "\n",
              "      <script>\n",
              "        const buttonEl =\n",
              "          document.querySelector('#df-e3d278bf-2e6c-417d-8d68-a6339745bc16 button.colab-df-convert');\n",
              "        buttonEl.style.display =\n",
              "          google.colab.kernel.accessAllowed ? 'block' : 'none';\n",
              "\n",
              "        async function convertToInteractive(key) {\n",
              "          const element = document.querySelector('#df-e3d278bf-2e6c-417d-8d68-a6339745bc16');\n",
              "          const dataTable =\n",
              "            await google.colab.kernel.invokeFunction('convertToInteractive',\n",
              "                                                     [key], {});\n",
              "          if (!dataTable) return;\n",
              "\n",
              "          const docLinkHtml = 'Like what you see? Visit the ' +\n",
              "            '<a target=\"_blank\" href=https://colab.research.google.com/notebooks/data_table.ipynb>data table notebook</a>'\n",
              "            + ' to learn more about interactive tables.';\n",
              "          element.innerHTML = '';\n",
              "          dataTable['output_type'] = 'display_data';\n",
              "          await google.colab.output.renderOutput(dataTable, element);\n",
              "          const docLink = document.createElement('div');\n",
              "          docLink.innerHTML = docLinkHtml;\n",
              "          element.appendChild(docLink);\n",
              "        }\n",
              "      </script>\n",
              "    </div>\n",
              "  </div>\n",
              "  "
            ]
          },
          "metadata": {},
          "execution_count": 4
        }
      ]
    },
    {
      "cell_type": "code",
      "source": [
        "df = raw.copy() \n",
        "df = df.drop(['AFDP','GTEP','TIT','TAT','CDP','CO','NOX'],axis=1)\n",
        "df.head()"
      ],
      "metadata": {
        "colab": {
          "base_uri": "https://localhost:8080/",
          "height": 206
        },
        "id": "epDk9kfmFAyp",
        "outputId": "524448dc-c48e-4716-e698-3d64a86e6f87"
      },
      "execution_count": 5,
      "outputs": [
        {
          "output_type": "execute_result",
          "data": {
            "text/plain": [
              "       AT      AP      AH     TEY\n",
              "0  6.8594  1007.9  96.799  114.70\n",
              "1  6.7850  1008.4  97.118  114.72\n",
              "2  6.8977  1008.8  95.939  114.71\n",
              "3  7.0569  1009.2  95.249  114.72\n",
              "4  7.3978  1009.7  95.150  114.72"
            ],
            "text/html": [
              "\n",
              "  <div id=\"df-01021fda-da16-4a6b-be09-39ec4a280d22\">\n",
              "    <div class=\"colab-df-container\">\n",
              "      <div>\n",
              "<style scoped>\n",
              "    .dataframe tbody tr th:only-of-type {\n",
              "        vertical-align: middle;\n",
              "    }\n",
              "\n",
              "    .dataframe tbody tr th {\n",
              "        vertical-align: top;\n",
              "    }\n",
              "\n",
              "    .dataframe thead th {\n",
              "        text-align: right;\n",
              "    }\n",
              "</style>\n",
              "<table border=\"1\" class=\"dataframe\">\n",
              "  <thead>\n",
              "    <tr style=\"text-align: right;\">\n",
              "      <th></th>\n",
              "      <th>AT</th>\n",
              "      <th>AP</th>\n",
              "      <th>AH</th>\n",
              "      <th>TEY</th>\n",
              "    </tr>\n",
              "  </thead>\n",
              "  <tbody>\n",
              "    <tr>\n",
              "      <th>0</th>\n",
              "      <td>6.8594</td>\n",
              "      <td>1007.9</td>\n",
              "      <td>96.799</td>\n",
              "      <td>114.70</td>\n",
              "    </tr>\n",
              "    <tr>\n",
              "      <th>1</th>\n",
              "      <td>6.7850</td>\n",
              "      <td>1008.4</td>\n",
              "      <td>97.118</td>\n",
              "      <td>114.72</td>\n",
              "    </tr>\n",
              "    <tr>\n",
              "      <th>2</th>\n",
              "      <td>6.8977</td>\n",
              "      <td>1008.8</td>\n",
              "      <td>95.939</td>\n",
              "      <td>114.71</td>\n",
              "    </tr>\n",
              "    <tr>\n",
              "      <th>3</th>\n",
              "      <td>7.0569</td>\n",
              "      <td>1009.2</td>\n",
              "      <td>95.249</td>\n",
              "      <td>114.72</td>\n",
              "    </tr>\n",
              "    <tr>\n",
              "      <th>4</th>\n",
              "      <td>7.3978</td>\n",
              "      <td>1009.7</td>\n",
              "      <td>95.150</td>\n",
              "      <td>114.72</td>\n",
              "    </tr>\n",
              "  </tbody>\n",
              "</table>\n",
              "</div>\n",
              "      <button class=\"colab-df-convert\" onclick=\"convertToInteractive('df-01021fda-da16-4a6b-be09-39ec4a280d22')\"\n",
              "              title=\"Convert this dataframe to an interactive table.\"\n",
              "              style=\"display:none;\">\n",
              "        \n",
              "  <svg xmlns=\"http://www.w3.org/2000/svg\" height=\"24px\"viewBox=\"0 0 24 24\"\n",
              "       width=\"24px\">\n",
              "    <path d=\"M0 0h24v24H0V0z\" fill=\"none\"/>\n",
              "    <path d=\"M18.56 5.44l.94 2.06.94-2.06 2.06-.94-2.06-.94-.94-2.06-.94 2.06-2.06.94zm-11 1L8.5 8.5l.94-2.06 2.06-.94-2.06-.94L8.5 2.5l-.94 2.06-2.06.94zm10 10l.94 2.06.94-2.06 2.06-.94-2.06-.94-.94-2.06-.94 2.06-2.06.94z\"/><path d=\"M17.41 7.96l-1.37-1.37c-.4-.4-.92-.59-1.43-.59-.52 0-1.04.2-1.43.59L10.3 9.45l-7.72 7.72c-.78.78-.78 2.05 0 2.83L4 21.41c.39.39.9.59 1.41.59.51 0 1.02-.2 1.41-.59l7.78-7.78 2.81-2.81c.8-.78.8-2.07 0-2.86zM5.41 20L4 18.59l7.72-7.72 1.47 1.35L5.41 20z\"/>\n",
              "  </svg>\n",
              "      </button>\n",
              "      \n",
              "  <style>\n",
              "    .colab-df-container {\n",
              "      display:flex;\n",
              "      flex-wrap:wrap;\n",
              "      gap: 12px;\n",
              "    }\n",
              "\n",
              "    .colab-df-convert {\n",
              "      background-color: #E8F0FE;\n",
              "      border: none;\n",
              "      border-radius: 50%;\n",
              "      cursor: pointer;\n",
              "      display: none;\n",
              "      fill: #1967D2;\n",
              "      height: 32px;\n",
              "      padding: 0 0 0 0;\n",
              "      width: 32px;\n",
              "    }\n",
              "\n",
              "    .colab-df-convert:hover {\n",
              "      background-color: #E2EBFA;\n",
              "      box-shadow: 0px 1px 2px rgba(60, 64, 67, 0.3), 0px 1px 3px 1px rgba(60, 64, 67, 0.15);\n",
              "      fill: #174EA6;\n",
              "    }\n",
              "\n",
              "    [theme=dark] .colab-df-convert {\n",
              "      background-color: #3B4455;\n",
              "      fill: #D2E3FC;\n",
              "    }\n",
              "\n",
              "    [theme=dark] .colab-df-convert:hover {\n",
              "      background-color: #434B5C;\n",
              "      box-shadow: 0px 1px 3px 1px rgba(0, 0, 0, 0.15);\n",
              "      filter: drop-shadow(0px 1px 2px rgba(0, 0, 0, 0.3));\n",
              "      fill: #FFFFFF;\n",
              "    }\n",
              "  </style>\n",
              "\n",
              "      <script>\n",
              "        const buttonEl =\n",
              "          document.querySelector('#df-01021fda-da16-4a6b-be09-39ec4a280d22 button.colab-df-convert');\n",
              "        buttonEl.style.display =\n",
              "          google.colab.kernel.accessAllowed ? 'block' : 'none';\n",
              "\n",
              "        async function convertToInteractive(key) {\n",
              "          const element = document.querySelector('#df-01021fda-da16-4a6b-be09-39ec4a280d22');\n",
              "          const dataTable =\n",
              "            await google.colab.kernel.invokeFunction('convertToInteractive',\n",
              "                                                     [key], {});\n",
              "          if (!dataTable) return;\n",
              "\n",
              "          const docLinkHtml = 'Like what you see? Visit the ' +\n",
              "            '<a target=\"_blank\" href=https://colab.research.google.com/notebooks/data_table.ipynb>data table notebook</a>'\n",
              "            + ' to learn more about interactive tables.';\n",
              "          element.innerHTML = '';\n",
              "          dataTable['output_type'] = 'display_data';\n",
              "          await google.colab.output.renderOutput(dataTable, element);\n",
              "          const docLink = document.createElement('div');\n",
              "          docLink.innerHTML = docLinkHtml;\n",
              "          element.appendChild(docLink);\n",
              "        }\n",
              "      </script>\n",
              "    </div>\n",
              "  </div>\n",
              "  "
            ]
          },
          "metadata": {},
          "execution_count": 5
        }
      ]
    },
    {
      "cell_type": "code",
      "source": [
        "df.info()\n"
      ],
      "metadata": {
        "colab": {
          "base_uri": "https://localhost:8080/"
        },
        "id": "rMek7MG0FMW3",
        "outputId": "88cf3c84-12e0-4696-cca0-2bbfc0176859"
      },
      "execution_count": 6,
      "outputs": [
        {
          "output_type": "stream",
          "name": "stdout",
          "text": [
            "<class 'pandas.core.frame.DataFrame'>\n",
            "RangeIndex: 15039 entries, 0 to 15038\n",
            "Data columns (total 4 columns):\n",
            " #   Column  Non-Null Count  Dtype  \n",
            "---  ------  --------------  -----  \n",
            " 0   AT      15039 non-null  float64\n",
            " 1   AP      15039 non-null  float64\n",
            " 2   AH      15039 non-null  float64\n",
            " 3   TEY     15039 non-null  float64\n",
            "dtypes: float64(4)\n",
            "memory usage: 470.1 KB\n"
          ]
        }
      ]
    },
    {
      "cell_type": "code",
      "source": [
        "df.describe()\n"
      ],
      "metadata": {
        "colab": {
          "base_uri": "https://localhost:8080/",
          "height": 300
        },
        "id": "ltUVvICHFOXm",
        "outputId": "eb8323ff-e352-423c-dc8a-cc54ce40a565"
      },
      "execution_count": 7,
      "outputs": [
        {
          "output_type": "execute_result",
          "data": {
            "text/plain": [
              "                 AT           AP            AH           TEY\n",
              "count  15039.000000  15039.00000  15039.000000  15039.000000\n",
              "mean      17.764381   1013.19924     79.124174    134.188464\n",
              "std        7.574323      6.41076     13.793439     15.829717\n",
              "min        0.522300    985.85000     30.344000    100.170000\n",
              "25%       11.408000   1008.90000     69.750000    127.985000\n",
              "50%       18.186000   1012.80000     82.266000    133.780000\n",
              "75%       23.862500   1016.90000     90.043500    140.895000\n",
              "max       34.929000   1034.20000    100.200000    174.610000"
            ],
            "text/html": [
              "\n",
              "  <div id=\"df-9ca447f7-68dd-4316-bb71-8853ece8b2bf\">\n",
              "    <div class=\"colab-df-container\">\n",
              "      <div>\n",
              "<style scoped>\n",
              "    .dataframe tbody tr th:only-of-type {\n",
              "        vertical-align: middle;\n",
              "    }\n",
              "\n",
              "    .dataframe tbody tr th {\n",
              "        vertical-align: top;\n",
              "    }\n",
              "\n",
              "    .dataframe thead th {\n",
              "        text-align: right;\n",
              "    }\n",
              "</style>\n",
              "<table border=\"1\" class=\"dataframe\">\n",
              "  <thead>\n",
              "    <tr style=\"text-align: right;\">\n",
              "      <th></th>\n",
              "      <th>AT</th>\n",
              "      <th>AP</th>\n",
              "      <th>AH</th>\n",
              "      <th>TEY</th>\n",
              "    </tr>\n",
              "  </thead>\n",
              "  <tbody>\n",
              "    <tr>\n",
              "      <th>count</th>\n",
              "      <td>15039.000000</td>\n",
              "      <td>15039.00000</td>\n",
              "      <td>15039.000000</td>\n",
              "      <td>15039.000000</td>\n",
              "    </tr>\n",
              "    <tr>\n",
              "      <th>mean</th>\n",
              "      <td>17.764381</td>\n",
              "      <td>1013.19924</td>\n",
              "      <td>79.124174</td>\n",
              "      <td>134.188464</td>\n",
              "    </tr>\n",
              "    <tr>\n",
              "      <th>std</th>\n",
              "      <td>7.574323</td>\n",
              "      <td>6.41076</td>\n",
              "      <td>13.793439</td>\n",
              "      <td>15.829717</td>\n",
              "    </tr>\n",
              "    <tr>\n",
              "      <th>min</th>\n",
              "      <td>0.522300</td>\n",
              "      <td>985.85000</td>\n",
              "      <td>30.344000</td>\n",
              "      <td>100.170000</td>\n",
              "    </tr>\n",
              "    <tr>\n",
              "      <th>25%</th>\n",
              "      <td>11.408000</td>\n",
              "      <td>1008.90000</td>\n",
              "      <td>69.750000</td>\n",
              "      <td>127.985000</td>\n",
              "    </tr>\n",
              "    <tr>\n",
              "      <th>50%</th>\n",
              "      <td>18.186000</td>\n",
              "      <td>1012.80000</td>\n",
              "      <td>82.266000</td>\n",
              "      <td>133.780000</td>\n",
              "    </tr>\n",
              "    <tr>\n",
              "      <th>75%</th>\n",
              "      <td>23.862500</td>\n",
              "      <td>1016.90000</td>\n",
              "      <td>90.043500</td>\n",
              "      <td>140.895000</td>\n",
              "    </tr>\n",
              "    <tr>\n",
              "      <th>max</th>\n",
              "      <td>34.929000</td>\n",
              "      <td>1034.20000</td>\n",
              "      <td>100.200000</td>\n",
              "      <td>174.610000</td>\n",
              "    </tr>\n",
              "  </tbody>\n",
              "</table>\n",
              "</div>\n",
              "      <button class=\"colab-df-convert\" onclick=\"convertToInteractive('df-9ca447f7-68dd-4316-bb71-8853ece8b2bf')\"\n",
              "              title=\"Convert this dataframe to an interactive table.\"\n",
              "              style=\"display:none;\">\n",
              "        \n",
              "  <svg xmlns=\"http://www.w3.org/2000/svg\" height=\"24px\"viewBox=\"0 0 24 24\"\n",
              "       width=\"24px\">\n",
              "    <path d=\"M0 0h24v24H0V0z\" fill=\"none\"/>\n",
              "    <path d=\"M18.56 5.44l.94 2.06.94-2.06 2.06-.94-2.06-.94-.94-2.06-.94 2.06-2.06.94zm-11 1L8.5 8.5l.94-2.06 2.06-.94-2.06-.94L8.5 2.5l-.94 2.06-2.06.94zm10 10l.94 2.06.94-2.06 2.06-.94-2.06-.94-.94-2.06-.94 2.06-2.06.94z\"/><path d=\"M17.41 7.96l-1.37-1.37c-.4-.4-.92-.59-1.43-.59-.52 0-1.04.2-1.43.59L10.3 9.45l-7.72 7.72c-.78.78-.78 2.05 0 2.83L4 21.41c.39.39.9.59 1.41.59.51 0 1.02-.2 1.41-.59l7.78-7.78 2.81-2.81c.8-.78.8-2.07 0-2.86zM5.41 20L4 18.59l7.72-7.72 1.47 1.35L5.41 20z\"/>\n",
              "  </svg>\n",
              "      </button>\n",
              "      \n",
              "  <style>\n",
              "    .colab-df-container {\n",
              "      display:flex;\n",
              "      flex-wrap:wrap;\n",
              "      gap: 12px;\n",
              "    }\n",
              "\n",
              "    .colab-df-convert {\n",
              "      background-color: #E8F0FE;\n",
              "      border: none;\n",
              "      border-radius: 50%;\n",
              "      cursor: pointer;\n",
              "      display: none;\n",
              "      fill: #1967D2;\n",
              "      height: 32px;\n",
              "      padding: 0 0 0 0;\n",
              "      width: 32px;\n",
              "    }\n",
              "\n",
              "    .colab-df-convert:hover {\n",
              "      background-color: #E2EBFA;\n",
              "      box-shadow: 0px 1px 2px rgba(60, 64, 67, 0.3), 0px 1px 3px 1px rgba(60, 64, 67, 0.15);\n",
              "      fill: #174EA6;\n",
              "    }\n",
              "\n",
              "    [theme=dark] .colab-df-convert {\n",
              "      background-color: #3B4455;\n",
              "      fill: #D2E3FC;\n",
              "    }\n",
              "\n",
              "    [theme=dark] .colab-df-convert:hover {\n",
              "      background-color: #434B5C;\n",
              "      box-shadow: 0px 1px 3px 1px rgba(0, 0, 0, 0.15);\n",
              "      filter: drop-shadow(0px 1px 2px rgba(0, 0, 0, 0.3));\n",
              "      fill: #FFFFFF;\n",
              "    }\n",
              "  </style>\n",
              "\n",
              "      <script>\n",
              "        const buttonEl =\n",
              "          document.querySelector('#df-9ca447f7-68dd-4316-bb71-8853ece8b2bf button.colab-df-convert');\n",
              "        buttonEl.style.display =\n",
              "          google.colab.kernel.accessAllowed ? 'block' : 'none';\n",
              "\n",
              "        async function convertToInteractive(key) {\n",
              "          const element = document.querySelector('#df-9ca447f7-68dd-4316-bb71-8853ece8b2bf');\n",
              "          const dataTable =\n",
              "            await google.colab.kernel.invokeFunction('convertToInteractive',\n",
              "                                                     [key], {});\n",
              "          if (!dataTable) return;\n",
              "\n",
              "          const docLinkHtml = 'Like what you see? Visit the ' +\n",
              "            '<a target=\"_blank\" href=https://colab.research.google.com/notebooks/data_table.ipynb>data table notebook</a>'\n",
              "            + ' to learn more about interactive tables.';\n",
              "          element.innerHTML = '';\n",
              "          dataTable['output_type'] = 'display_data';\n",
              "          await google.colab.output.renderOutput(dataTable, element);\n",
              "          const docLink = document.createElement('div');\n",
              "          docLink.innerHTML = docLinkHtml;\n",
              "          element.appendChild(docLink);\n",
              "        }\n",
              "      </script>\n",
              "    </div>\n",
              "  </div>\n",
              "  "
            ]
          },
          "metadata": {},
          "execution_count": 7
        }
      ]
    },
    {
      "cell_type": "markdown",
      "source": [
        "## Feature Analysis\n"
      ],
      "metadata": {
        "id": "sG4r7yc8FScW"
      }
    },
    {
      "cell_type": "markdown",
      "source": [
        "All features in the dataset can be used in model building. This is a Regression Problem.\n",
        "\n"
      ],
      "metadata": {
        "id": "ksl4rDN3FXfz"
      }
    },
    {
      "cell_type": "markdown",
      "source": [
        "## Train | Split dataset\n"
      ],
      "metadata": {
        "id": "0FJbx8JkFZ0B"
      }
    },
    {
      "cell_type": "code",
      "source": [
        "X =df.iloc[:,:-1]\n",
        "Y = df.iloc[:,-1]\n",
        "\n",
        "\n",
        "X_train, X_test, y_train, y_test = train_test_split(X,Y, test_size = 0.3)"
      ],
      "metadata": {
        "id": "ntvH9EFWFRBM"
      },
      "execution_count": 8,
      "outputs": []
    },
    {
      "cell_type": "markdown",
      "source": [
        "A common mistake when configuring a neural network is to first normalize the data before splitting the data.\n",
        "\n"
      ],
      "metadata": {
        "id": "jXR1ny34FirT"
      }
    },
    {
      "cell_type": "code",
      "source": [
        "y_train=np.reshape(y_train.to_numpy(), (-1,1)) \n",
        "y_test=np.reshape(y_test.to_numpy(), (-1,1)) "
      ],
      "metadata": {
        "id": "tqOnR9Z4Ff1E"
      },
      "execution_count": 9,
      "outputs": []
    },
    {
      "cell_type": "code",
      "source": [
        "from sklearn.preprocessing import MinMaxScaler\n",
        "\n",
        "scaler_x = MinMaxScaler()\n",
        "scaler_y = MinMaxScaler()\n",
        "\n",
        "print(scaler_x.fit(X_train))\n",
        "xtrain_scale=scaler_x.transform(X_train)\n",
        "\n",
        "print(scaler_x.fit(X_test))\n",
        "xtest_scale=scaler_x.transform(X_test)\n",
        "\n",
        "print(scaler_y.fit(y_train))\n",
        "ytrain_scale=scaler_y.transform(y_train)\n",
        "\n",
        "print(scaler_y.fit(y_test))\n",
        "ytest_scale=scaler_y.transform(y_test)"
      ],
      "metadata": {
        "colab": {
          "base_uri": "https://localhost:8080/"
        },
        "id": "FckyMkfBFl-X",
        "outputId": "bc65b811-4aa1-483e-a35c-8b8a9def43f1"
      },
      "execution_count": 10,
      "outputs": [
        {
          "output_type": "stream",
          "name": "stdout",
          "text": [
            "MinMaxScaler()\n",
            "MinMaxScaler()\n",
            "MinMaxScaler()\n",
            "MinMaxScaler()\n"
          ]
        }
      ]
    },
    {
      "cell_type": "code",
      "source": [
        "len(xtrain_scale)\n"
      ],
      "metadata": {
        "colab": {
          "base_uri": "https://localhost:8080/"
        },
        "id": "hIGs8ibRFozy",
        "outputId": "ac06842c-f4f8-4faa-eb7d-0118865e0797"
      },
      "execution_count": 11,
      "outputs": [
        {
          "output_type": "execute_result",
          "data": {
            "text/plain": [
              "10527"
            ]
          },
          "metadata": {},
          "execution_count": 11
        }
      ]
    },
    {
      "cell_type": "markdown",
      "source": [
        "## Neural Network Modelling\n"
      ],
      "metadata": {
        "id": "09pEb0CxFssQ"
      }
    },
    {
      "cell_type": "markdown",
      "source": [
        "### Building the Model\n"
      ],
      "metadata": {
        "id": "indYsw1NFx-U"
      }
    },
    {
      "cell_type": "code",
      "source": [
        "# create model\n",
        "model1 = Sequential()\n",
        "model1.add(Dense(4, input_dim=3, kernel_initializer='normal', activation='relu'))\n",
        "model1.add(Dense(2106,kernel_initializer='normal', activation='relu'))\n",
        "model1.add(Dense(1, activation='linear'))\n",
        "# Compile model\n",
        "model1.compile(loss='mean_squared_error', optimizer='adam', metrics=['mse','mae'])\n",
        "# Fit the model\n",
        "hist1 = model1.fit(xtrain_scale, ytrain_scale, validation_split=0.33, epochs=100, batch_size=150)\n",
        "#At epoch 50, mse and mae just keeps oscillating back and forth"
      ],
      "metadata": {
        "colab": {
          "base_uri": "https://localhost:8080/"
        },
        "id": "uVyythCWFroo",
        "outputId": "0e608339-88ba-4bf0-e60b-891a07c366da"
      },
      "execution_count": 13,
      "outputs": [
        {
          "output_type": "stream",
          "name": "stdout",
          "text": [
            "Epoch 1/100\n",
            "48/48 [==============================] - 2s 21ms/step - loss: 0.0709 - mse: 0.0709 - mae: 0.2053 - val_loss: 0.0459 - val_mse: 0.0459 - val_mae: 0.1614\n",
            "Epoch 2/100\n",
            "48/48 [==============================] - 0s 7ms/step - loss: 0.0451 - mse: 0.0451 - mae: 0.1533 - val_loss: 0.0443 - val_mse: 0.0443 - val_mae: 0.1513\n",
            "Epoch 3/100\n",
            "48/48 [==============================] - 0s 6ms/step - loss: 0.0443 - mse: 0.0443 - mae: 0.1518 - val_loss: 0.0433 - val_mse: 0.0433 - val_mae: 0.1505\n",
            "Epoch 4/100\n",
            "48/48 [==============================] - 0s 6ms/step - loss: 0.0434 - mse: 0.0434 - mae: 0.1531 - val_loss: 0.0423 - val_mse: 0.0423 - val_mae: 0.1525\n",
            "Epoch 5/100\n",
            "48/48 [==============================] - 0s 6ms/step - loss: 0.0425 - mse: 0.0425 - mae: 0.1554 - val_loss: 0.0422 - val_mse: 0.0422 - val_mae: 0.1582\n",
            "Epoch 6/100\n",
            "48/48 [==============================] - 0s 6ms/step - loss: 0.0422 - mse: 0.0422 - mae: 0.1588 - val_loss: 0.0412 - val_mse: 0.0412 - val_mae: 0.1566\n",
            "Epoch 7/100\n",
            "48/48 [==============================] - 0s 6ms/step - loss: 0.0417 - mse: 0.0417 - mae: 0.1588 - val_loss: 0.0412 - val_mse: 0.0412 - val_mae: 0.1597\n",
            "Epoch 8/100\n",
            "48/48 [==============================] - 0s 7ms/step - loss: 0.0416 - mse: 0.0416 - mae: 0.1604 - val_loss: 0.0408 - val_mse: 0.0408 - val_mae: 0.1580\n",
            "Epoch 9/100\n",
            "48/48 [==============================] - 0s 6ms/step - loss: 0.0418 - mse: 0.0418 - mae: 0.1603 - val_loss: 0.0415 - val_mse: 0.0415 - val_mae: 0.1582\n",
            "Epoch 10/100\n",
            "48/48 [==============================] - 0s 7ms/step - loss: 0.0420 - mse: 0.0420 - mae: 0.1609 - val_loss: 0.0404 - val_mse: 0.0404 - val_mae: 0.1590\n",
            "Epoch 11/100\n",
            "48/48 [==============================] - 0s 9ms/step - loss: 0.0408 - mse: 0.0408 - mae: 0.1594 - val_loss: 0.0412 - val_mse: 0.0412 - val_mae: 0.1574\n",
            "Epoch 12/100\n",
            "48/48 [==============================] - 0s 7ms/step - loss: 0.0408 - mse: 0.0408 - mae: 0.1590 - val_loss: 0.0398 - val_mse: 0.0398 - val_mae: 0.1553\n",
            "Epoch 13/100\n",
            "48/48 [==============================] - 0s 6ms/step - loss: 0.0404 - mse: 0.0404 - mae: 0.1579 - val_loss: 0.0396 - val_mse: 0.0396 - val_mae: 0.1562\n",
            "Epoch 14/100\n",
            "48/48 [==============================] - 0s 8ms/step - loss: 0.0403 - mse: 0.0403 - mae: 0.1586 - val_loss: 0.0402 - val_mse: 0.0402 - val_mae: 0.1600\n",
            "Epoch 15/100\n",
            "48/48 [==============================] - 0s 7ms/step - loss: 0.0406 - mse: 0.0406 - mae: 0.1588 - val_loss: 0.0419 - val_mse: 0.0419 - val_mae: 0.1656\n",
            "Epoch 16/100\n",
            "48/48 [==============================] - 0s 6ms/step - loss: 0.0401 - mse: 0.0401 - mae: 0.1581 - val_loss: 0.0391 - val_mse: 0.0391 - val_mae: 0.1563\n",
            "Epoch 17/100\n",
            "48/48 [==============================] - 0s 7ms/step - loss: 0.0396 - mse: 0.0396 - mae: 0.1571 - val_loss: 0.0395 - val_mse: 0.0395 - val_mae: 0.1565\n",
            "Epoch 18/100\n",
            "48/48 [==============================] - 0s 6ms/step - loss: 0.0395 - mse: 0.0395 - mae: 0.1573 - val_loss: 0.0390 - val_mse: 0.0390 - val_mae: 0.1570\n",
            "Epoch 19/100\n",
            "48/48 [==============================] - 0s 7ms/step - loss: 0.0403 - mse: 0.0403 - mae: 0.1602 - val_loss: 0.0403 - val_mse: 0.0403 - val_mae: 0.1578\n",
            "Epoch 20/100\n",
            "48/48 [==============================] - 0s 7ms/step - loss: 0.0399 - mse: 0.0399 - mae: 0.1579 - val_loss: 0.0404 - val_mse: 0.0404 - val_mae: 0.1586\n",
            "Epoch 21/100\n",
            "48/48 [==============================] - 0s 10ms/step - loss: 0.0396 - mse: 0.0396 - mae: 0.1583 - val_loss: 0.0392 - val_mse: 0.0392 - val_mae: 0.1574\n",
            "Epoch 22/100\n",
            "48/48 [==============================] - 1s 13ms/step - loss: 0.0395 - mse: 0.0395 - mae: 0.1574 - val_loss: 0.0404 - val_mse: 0.0404 - val_mae: 0.1593\n",
            "Epoch 23/100\n",
            "48/48 [==============================] - 1s 13ms/step - loss: 0.0395 - mse: 0.0395 - mae: 0.1587 - val_loss: 0.0389 - val_mse: 0.0389 - val_mae: 0.1562\n",
            "Epoch 24/100\n",
            "48/48 [==============================] - 1s 13ms/step - loss: 0.0392 - mse: 0.0392 - mae: 0.1587 - val_loss: 0.0388 - val_mse: 0.0388 - val_mae: 0.1570\n",
            "Epoch 25/100\n",
            "48/48 [==============================] - 1s 11ms/step - loss: 0.0392 - mse: 0.0392 - mae: 0.1573 - val_loss: 0.0387 - val_mse: 0.0387 - val_mae: 0.1563\n",
            "Epoch 26/100\n",
            "48/48 [==============================] - 1s 11ms/step - loss: 0.0392 - mse: 0.0392 - mae: 0.1583 - val_loss: 0.0388 - val_mse: 0.0388 - val_mae: 0.1560\n",
            "Epoch 27/100\n",
            "48/48 [==============================] - 1s 16ms/step - loss: 0.0395 - mse: 0.0395 - mae: 0.1576 - val_loss: 0.0398 - val_mse: 0.0398 - val_mae: 0.1606\n",
            "Epoch 28/100\n",
            "48/48 [==============================] - 1s 17ms/step - loss: 0.0395 - mse: 0.0395 - mae: 0.1588 - val_loss: 0.0415 - val_mse: 0.0415 - val_mae: 0.1619\n",
            "Epoch 29/100\n",
            "48/48 [==============================] - 1s 22ms/step - loss: 0.0395 - mse: 0.0395 - mae: 0.1584 - val_loss: 0.0447 - val_mse: 0.0447 - val_mae: 0.1689\n",
            "Epoch 30/100\n",
            "48/48 [==============================] - 1s 20ms/step - loss: 0.0410 - mse: 0.0410 - mae: 0.1616 - val_loss: 0.0399 - val_mse: 0.0399 - val_mae: 0.1583\n",
            "Epoch 31/100\n",
            "48/48 [==============================] - 1s 12ms/step - loss: 0.0395 - mse: 0.0395 - mae: 0.1580 - val_loss: 0.0388 - val_mse: 0.0388 - val_mae: 0.1565\n",
            "Epoch 32/100\n",
            "48/48 [==============================] - 1s 13ms/step - loss: 0.0395 - mse: 0.0395 - mae: 0.1577 - val_loss: 0.0387 - val_mse: 0.0387 - val_mae: 0.1557\n",
            "Epoch 33/100\n",
            "48/48 [==============================] - 1s 14ms/step - loss: 0.0394 - mse: 0.0394 - mae: 0.1580 - val_loss: 0.0429 - val_mse: 0.0429 - val_mae: 0.1647\n",
            "Epoch 34/100\n",
            "48/48 [==============================] - 1s 12ms/step - loss: 0.0424 - mse: 0.0424 - mae: 0.1646 - val_loss: 0.0389 - val_mse: 0.0389 - val_mae: 0.1556\n",
            "Epoch 35/100\n",
            "48/48 [==============================] - 1s 12ms/step - loss: 0.0391 - mse: 0.0391 - mae: 0.1568 - val_loss: 0.0388 - val_mse: 0.0388 - val_mae: 0.1563\n",
            "Epoch 36/100\n",
            "48/48 [==============================] - 0s 9ms/step - loss: 0.0402 - mse: 0.0402 - mae: 0.1595 - val_loss: 0.0393 - val_mse: 0.0393 - val_mae: 0.1571\n",
            "Epoch 37/100\n",
            "48/48 [==============================] - 1s 12ms/step - loss: 0.0407 - mse: 0.0407 - mae: 0.1592 - val_loss: 0.0387 - val_mse: 0.0387 - val_mae: 0.1557\n",
            "Epoch 38/100\n",
            "48/48 [==============================] - 1s 12ms/step - loss: 0.0393 - mse: 0.0393 - mae: 0.1575 - val_loss: 0.0400 - val_mse: 0.0400 - val_mae: 0.1585\n",
            "Epoch 39/100\n",
            "48/48 [==============================] - 1s 12ms/step - loss: 0.0392 - mse: 0.0392 - mae: 0.1572 - val_loss: 0.0402 - val_mse: 0.0402 - val_mae: 0.1592\n",
            "Epoch 40/100\n",
            "48/48 [==============================] - 1s 12ms/step - loss: 0.0402 - mse: 0.0402 - mae: 0.1597 - val_loss: 0.0386 - val_mse: 0.0386 - val_mae: 0.1557\n",
            "Epoch 41/100\n",
            "48/48 [==============================] - 1s 11ms/step - loss: 0.0391 - mse: 0.0391 - mae: 0.1566 - val_loss: 0.0386 - val_mse: 0.0386 - val_mae: 0.1560\n",
            "Epoch 42/100\n",
            "48/48 [==============================] - 1s 13ms/step - loss: 0.0390 - mse: 0.0390 - mae: 0.1569 - val_loss: 0.0385 - val_mse: 0.0385 - val_mae: 0.1559\n",
            "Epoch 43/100\n",
            "48/48 [==============================] - 1s 12ms/step - loss: 0.0390 - mse: 0.0390 - mae: 0.1575 - val_loss: 0.0399 - val_mse: 0.0399 - val_mae: 0.1584\n",
            "Epoch 44/100\n",
            "48/48 [==============================] - 1s 15ms/step - loss: 0.0396 - mse: 0.0396 - mae: 0.1581 - val_loss: 0.0388 - val_mse: 0.0388 - val_mae: 0.1558\n",
            "Epoch 45/100\n",
            "48/48 [==============================] - 1s 11ms/step - loss: 0.0392 - mse: 0.0392 - mae: 0.1576 - val_loss: 0.0385 - val_mse: 0.0385 - val_mae: 0.1558\n",
            "Epoch 46/100\n",
            "48/48 [==============================] - 1s 14ms/step - loss: 0.0391 - mse: 0.0391 - mae: 0.1568 - val_loss: 0.0385 - val_mse: 0.0385 - val_mae: 0.1562\n",
            "Epoch 47/100\n",
            "48/48 [==============================] - 1s 20ms/step - loss: 0.0390 - mse: 0.0390 - mae: 0.1571 - val_loss: 0.0389 - val_mse: 0.0389 - val_mae: 0.1568\n",
            "Epoch 48/100\n",
            "48/48 [==============================] - 1s 22ms/step - loss: 0.0390 - mse: 0.0390 - mae: 0.1570 - val_loss: 0.0386 - val_mse: 0.0386 - val_mae: 0.1558\n",
            "Epoch 49/100\n",
            "48/48 [==============================] - 1s 22ms/step - loss: 0.0392 - mse: 0.0392 - mae: 0.1572 - val_loss: 0.0386 - val_mse: 0.0386 - val_mae: 0.1554\n",
            "Epoch 50/100\n",
            "48/48 [==============================] - 1s 16ms/step - loss: 0.0390 - mse: 0.0390 - mae: 0.1565 - val_loss: 0.0389 - val_mse: 0.0389 - val_mae: 0.1559\n",
            "Epoch 51/100\n",
            "48/48 [==============================] - 1s 12ms/step - loss: 0.0394 - mse: 0.0394 - mae: 0.1572 - val_loss: 0.0386 - val_mse: 0.0386 - val_mae: 0.1561\n",
            "Epoch 52/100\n",
            "48/48 [==============================] - 1s 11ms/step - loss: 0.0390 - mse: 0.0390 - mae: 0.1567 - val_loss: 0.0386 - val_mse: 0.0386 - val_mae: 0.1553\n",
            "Epoch 53/100\n",
            "48/48 [==============================] - 1s 14ms/step - loss: 0.0394 - mse: 0.0394 - mae: 0.1575 - val_loss: 0.0385 - val_mse: 0.0385 - val_mae: 0.1548\n",
            "Epoch 54/100\n",
            "48/48 [==============================] - 0s 7ms/step - loss: 0.0388 - mse: 0.0388 - mae: 0.1558 - val_loss: 0.0389 - val_mse: 0.0389 - val_mae: 0.1559\n",
            "Epoch 55/100\n",
            "48/48 [==============================] - 0s 8ms/step - loss: 0.0388 - mse: 0.0388 - mae: 0.1562 - val_loss: 0.0388 - val_mse: 0.0388 - val_mae: 0.1555\n",
            "Epoch 56/100\n",
            "48/48 [==============================] - 0s 9ms/step - loss: 0.0391 - mse: 0.0391 - mae: 0.1568 - val_loss: 0.0388 - val_mse: 0.0388 - val_mae: 0.1559\n",
            "Epoch 57/100\n",
            "48/48 [==============================] - 0s 10ms/step - loss: 0.0389 - mse: 0.0389 - mae: 0.1563 - val_loss: 0.0386 - val_mse: 0.0386 - val_mae: 0.1554\n",
            "Epoch 58/100\n",
            "48/48 [==============================] - 1s 11ms/step - loss: 0.0386 - mse: 0.0386 - mae: 0.1557 - val_loss: 0.0385 - val_mse: 0.0385 - val_mae: 0.1546\n",
            "Epoch 59/100\n",
            "48/48 [==============================] - 0s 10ms/step - loss: 0.0389 - mse: 0.0389 - mae: 0.1564 - val_loss: 0.0385 - val_mse: 0.0385 - val_mae: 0.1570\n",
            "Epoch 60/100\n",
            "48/48 [==============================] - 0s 10ms/step - loss: 0.0387 - mse: 0.0387 - mae: 0.1558 - val_loss: 0.0384 - val_mse: 0.0384 - val_mae: 0.1552\n",
            "Epoch 61/100\n",
            "48/48 [==============================] - 0s 10ms/step - loss: 0.0386 - mse: 0.0386 - mae: 0.1553 - val_loss: 0.0393 - val_mse: 0.0393 - val_mae: 0.1590\n",
            "Epoch 62/100\n",
            "48/48 [==============================] - 0s 7ms/step - loss: 0.0397 - mse: 0.0397 - mae: 0.1585 - val_loss: 0.0394 - val_mse: 0.0394 - val_mae: 0.1565\n",
            "Epoch 63/100\n",
            "48/48 [==============================] - 0s 7ms/step - loss: 0.0387 - mse: 0.0387 - mae: 0.1557 - val_loss: 0.0384 - val_mse: 0.0384 - val_mae: 0.1553\n",
            "Epoch 64/100\n",
            "48/48 [==============================] - 0s 7ms/step - loss: 0.0390 - mse: 0.0390 - mae: 0.1565 - val_loss: 0.0385 - val_mse: 0.0385 - val_mae: 0.1552\n",
            "Epoch 65/100\n",
            "48/48 [==============================] - 0s 7ms/step - loss: 0.0386 - mse: 0.0386 - mae: 0.1561 - val_loss: 0.0383 - val_mse: 0.0383 - val_mae: 0.1544\n",
            "Epoch 66/100\n",
            "48/48 [==============================] - 0s 6ms/step - loss: 0.0390 - mse: 0.0390 - mae: 0.1566 - val_loss: 0.0393 - val_mse: 0.0393 - val_mae: 0.1571\n",
            "Epoch 67/100\n",
            "48/48 [==============================] - 0s 7ms/step - loss: 0.0392 - mse: 0.0392 - mae: 0.1576 - val_loss: 0.0383 - val_mse: 0.0383 - val_mae: 0.1538\n",
            "Epoch 68/100\n",
            "48/48 [==============================] - 0s 7ms/step - loss: 0.0384 - mse: 0.0384 - mae: 0.1551 - val_loss: 0.0382 - val_mse: 0.0382 - val_mae: 0.1550\n",
            "Epoch 69/100\n",
            "48/48 [==============================] - 0s 7ms/step - loss: 0.0388 - mse: 0.0388 - mae: 0.1559 - val_loss: 0.0385 - val_mse: 0.0385 - val_mae: 0.1548\n",
            "Epoch 70/100\n",
            "48/48 [==============================] - 0s 7ms/step - loss: 0.0386 - mse: 0.0386 - mae: 0.1548 - val_loss: 0.0408 - val_mse: 0.0408 - val_mae: 0.1623\n",
            "Epoch 71/100\n",
            "48/48 [==============================] - 0s 7ms/step - loss: 0.0394 - mse: 0.0394 - mae: 0.1573 - val_loss: 0.0382 - val_mse: 0.0382 - val_mae: 0.1541\n",
            "Epoch 72/100\n",
            "48/48 [==============================] - 0s 7ms/step - loss: 0.0386 - mse: 0.0386 - mae: 0.1548 - val_loss: 0.0382 - val_mse: 0.0382 - val_mae: 0.1543\n",
            "Epoch 73/100\n",
            "48/48 [==============================] - 0s 7ms/step - loss: 0.0385 - mse: 0.0385 - mae: 0.1549 - val_loss: 0.0385 - val_mse: 0.0385 - val_mae: 0.1566\n",
            "Epoch 74/100\n",
            "48/48 [==============================] - 0s 9ms/step - loss: 0.0388 - mse: 0.0388 - mae: 0.1557 - val_loss: 0.0397 - val_mse: 0.0397 - val_mae: 0.1583\n",
            "Epoch 75/100\n",
            "48/48 [==============================] - 1s 12ms/step - loss: 0.0389 - mse: 0.0389 - mae: 0.1568 - val_loss: 0.0381 - val_mse: 0.0381 - val_mae: 0.1538\n",
            "Epoch 76/100\n",
            "48/48 [==============================] - 1s 12ms/step - loss: 0.0386 - mse: 0.0386 - mae: 0.1559 - val_loss: 0.0382 - val_mse: 0.0382 - val_mae: 0.1546\n",
            "Epoch 77/100\n",
            "48/48 [==============================] - 1s 12ms/step - loss: 0.0384 - mse: 0.0384 - mae: 0.1547 - val_loss: 0.0381 - val_mse: 0.0381 - val_mae: 0.1540\n",
            "Epoch 78/100\n",
            "48/48 [==============================] - 1s 12ms/step - loss: 0.0384 - mse: 0.0384 - mae: 0.1551 - val_loss: 0.0388 - val_mse: 0.0388 - val_mae: 0.1561\n",
            "Epoch 79/100\n",
            "48/48 [==============================] - 0s 7ms/step - loss: 0.0389 - mse: 0.0389 - mae: 0.1563 - val_loss: 0.0381 - val_mse: 0.0381 - val_mae: 0.1536\n",
            "Epoch 80/100\n",
            "48/48 [==============================] - 0s 7ms/step - loss: 0.0390 - mse: 0.0390 - mae: 0.1561 - val_loss: 0.0384 - val_mse: 0.0384 - val_mae: 0.1542\n",
            "Epoch 81/100\n",
            "48/48 [==============================] - 0s 8ms/step - loss: 0.0385 - mse: 0.0385 - mae: 0.1549 - val_loss: 0.0383 - val_mse: 0.0383 - val_mae: 0.1548\n",
            "Epoch 82/100\n",
            "48/48 [==============================] - 0s 7ms/step - loss: 0.0385 - mse: 0.0385 - mae: 0.1559 - val_loss: 0.0383 - val_mse: 0.0383 - val_mae: 0.1542\n",
            "Epoch 83/100\n",
            "48/48 [==============================] - 0s 7ms/step - loss: 0.0384 - mse: 0.0384 - mae: 0.1543 - val_loss: 0.0380 - val_mse: 0.0380 - val_mae: 0.1536\n",
            "Epoch 84/100\n",
            "48/48 [==============================] - 0s 9ms/step - loss: 0.0383 - mse: 0.0383 - mae: 0.1545 - val_loss: 0.0386 - val_mse: 0.0386 - val_mae: 0.1557\n",
            "Epoch 85/100\n",
            "48/48 [==============================] - 0s 7ms/step - loss: 0.0385 - mse: 0.0385 - mae: 0.1554 - val_loss: 0.0387 - val_mse: 0.0387 - val_mae: 0.1557\n",
            "Epoch 86/100\n",
            "48/48 [==============================] - 0s 6ms/step - loss: 0.0393 - mse: 0.0393 - mae: 0.1567 - val_loss: 0.0382 - val_mse: 0.0382 - val_mae: 0.1545\n",
            "Epoch 87/100\n",
            "48/48 [==============================] - 0s 7ms/step - loss: 0.0388 - mse: 0.0388 - mae: 0.1570 - val_loss: 0.0390 - val_mse: 0.0390 - val_mae: 0.1574\n",
            "Epoch 88/100\n",
            "48/48 [==============================] - 0s 7ms/step - loss: 0.0387 - mse: 0.0387 - mae: 0.1561 - val_loss: 0.0382 - val_mse: 0.0382 - val_mae: 0.1544\n",
            "Epoch 89/100\n",
            "48/48 [==============================] - 0s 7ms/step - loss: 0.0384 - mse: 0.0384 - mae: 0.1554 - val_loss: 0.0381 - val_mse: 0.0381 - val_mae: 0.1536\n",
            "Epoch 90/100\n",
            "48/48 [==============================] - 0s 8ms/step - loss: 0.0383 - mse: 0.0383 - mae: 0.1544 - val_loss: 0.0380 - val_mse: 0.0380 - val_mae: 0.1539\n",
            "Epoch 91/100\n",
            "48/48 [==============================] - 0s 7ms/step - loss: 0.0384 - mse: 0.0384 - mae: 0.1547 - val_loss: 0.0380 - val_mse: 0.0380 - val_mae: 0.1545\n",
            "Epoch 92/100\n",
            "48/48 [==============================] - 0s 7ms/step - loss: 0.0387 - mse: 0.0387 - mae: 0.1565 - val_loss: 0.0380 - val_mse: 0.0380 - val_mae: 0.1540\n",
            "Epoch 93/100\n",
            "48/48 [==============================] - 0s 8ms/step - loss: 0.0385 - mse: 0.0385 - mae: 0.1551 - val_loss: 0.0390 - val_mse: 0.0390 - val_mae: 0.1565\n",
            "Epoch 94/100\n",
            "48/48 [==============================] - 0s 7ms/step - loss: 0.0388 - mse: 0.0388 - mae: 0.1564 - val_loss: 0.0382 - val_mse: 0.0382 - val_mae: 0.1545\n",
            "Epoch 95/100\n",
            "48/48 [==============================] - 0s 7ms/step - loss: 0.0384 - mse: 0.0384 - mae: 0.1554 - val_loss: 0.0380 - val_mse: 0.0380 - val_mae: 0.1528\n",
            "Epoch 96/100\n",
            "48/48 [==============================] - 0s 8ms/step - loss: 0.0382 - mse: 0.0382 - mae: 0.1542 - val_loss: 0.0380 - val_mse: 0.0380 - val_mae: 0.1539\n",
            "Epoch 97/100\n",
            "48/48 [==============================] - 0s 7ms/step - loss: 0.0387 - mse: 0.0387 - mae: 0.1560 - val_loss: 0.0399 - val_mse: 0.0399 - val_mae: 0.1591\n",
            "Epoch 98/100\n",
            "48/48 [==============================] - 0s 7ms/step - loss: 0.0389 - mse: 0.0389 - mae: 0.1570 - val_loss: 0.0380 - val_mse: 0.0380 - val_mae: 0.1535\n",
            "Epoch 99/100\n",
            "48/48 [==============================] - 0s 7ms/step - loss: 0.0383 - mse: 0.0383 - mae: 0.1549 - val_loss: 0.0383 - val_mse: 0.0383 - val_mae: 0.1544\n",
            "Epoch 100/100\n",
            "48/48 [==============================] - 0s 7ms/step - loss: 0.0382 - mse: 0.0382 - mae: 0.1542 - val_loss: 0.0380 - val_mse: 0.0380 - val_mae: 0.1533\n"
          ]
        }
      ]
    },
    {
      "cell_type": "code",
      "source": [
        "model1.summary() \n"
      ],
      "metadata": {
        "colab": {
          "base_uri": "https://localhost:8080/"
        },
        "id": "GVcHPszQF4yz",
        "outputId": "28835d9b-73ae-4c7a-d901-8fc144937a2d"
      },
      "execution_count": 14,
      "outputs": [
        {
          "output_type": "stream",
          "name": "stdout",
          "text": [
            "Model: \"sequential_1\"\n",
            "_________________________________________________________________\n",
            " Layer (type)                Output Shape              Param #   \n",
            "=================================================================\n",
            " dense_3 (Dense)             (None, 4)                 16        \n",
            "                                                                 \n",
            " dense_4 (Dense)             (None, 2106)              10530     \n",
            "                                                                 \n",
            " dense_5 (Dense)             (None, 1)                 2107      \n",
            "                                                                 \n",
            "=================================================================\n",
            "Total params: 12,653\n",
            "Trainable params: 12,653\n",
            "Non-trainable params: 0\n",
            "_________________________________________________________________\n"
          ]
        }
      ]
    },
    {
      "cell_type": "markdown",
      "source": [
        "## Model Evaluation\n"
      ],
      "metadata": {
        "id": "61pZap8AGtR2"
      }
    },
    {
      "cell_type": "code",
      "source": [
        "y_predict = model1.predict(xtest_scale)\n"
      ],
      "metadata": {
        "colab": {
          "base_uri": "https://localhost:8080/"
        },
        "id": "D499UQCZGq6o",
        "outputId": "5b531ab3-18c7-4eb0-c109-618686f5fd70"
      },
      "execution_count": 15,
      "outputs": [
        {
          "output_type": "stream",
          "name": "stdout",
          "text": [
            "141/141 [==============================] - 0s 2ms/step\n"
          ]
        }
      ]
    },
    {
      "cell_type": "code",
      "source": [
        "print(hist1.history.keys())\n"
      ],
      "metadata": {
        "colab": {
          "base_uri": "https://localhost:8080/"
        },
        "id": "yXEkLxVlHBdq",
        "outputId": "70e7310d-280e-4d7a-a249-9db40d8f5cec"
      },
      "execution_count": 16,
      "outputs": [
        {
          "output_type": "stream",
          "name": "stdout",
          "text": [
            "dict_keys(['loss', 'mse', 'mae', 'val_loss', 'val_mse', 'val_mae'])\n"
          ]
        }
      ]
    },
    {
      "cell_type": "code",
      "source": [
        "hist1_df = pd.DataFrame(hist1.history)\n",
        "hist1_df[\"epoch\"]=hist1.epoch\n",
        "hist1_df.tail()"
      ],
      "metadata": {
        "colab": {
          "base_uri": "https://localhost:8080/",
          "height": 206
        },
        "id": "EiK7rPrLHEY4",
        "outputId": "c679c95c-62e4-413c-fbf7-47c4278cc1de"
      },
      "execution_count": 17,
      "outputs": [
        {
          "output_type": "execute_result",
          "data": {
            "text/plain": [
              "        loss       mse       mae  val_loss   val_mse   val_mae  epoch\n",
              "95  0.038224  0.038224  0.154218  0.038000  0.038000  0.153937     95\n",
              "96  0.038715  0.038715  0.155984  0.039943  0.039943  0.159053     96\n",
              "97  0.038893  0.038893  0.156969  0.038019  0.038019  0.153491     97\n",
              "98  0.038325  0.038325  0.154924  0.038304  0.038304  0.154366     98\n",
              "99  0.038221  0.038221  0.154246  0.037955  0.037955  0.153275     99"
            ],
            "text/html": [
              "\n",
              "  <div id=\"df-fa8466d7-d613-49a2-9774-1de648e9ac92\">\n",
              "    <div class=\"colab-df-container\">\n",
              "      <div>\n",
              "<style scoped>\n",
              "    .dataframe tbody tr th:only-of-type {\n",
              "        vertical-align: middle;\n",
              "    }\n",
              "\n",
              "    .dataframe tbody tr th {\n",
              "        vertical-align: top;\n",
              "    }\n",
              "\n",
              "    .dataframe thead th {\n",
              "        text-align: right;\n",
              "    }\n",
              "</style>\n",
              "<table border=\"1\" class=\"dataframe\">\n",
              "  <thead>\n",
              "    <tr style=\"text-align: right;\">\n",
              "      <th></th>\n",
              "      <th>loss</th>\n",
              "      <th>mse</th>\n",
              "      <th>mae</th>\n",
              "      <th>val_loss</th>\n",
              "      <th>val_mse</th>\n",
              "      <th>val_mae</th>\n",
              "      <th>epoch</th>\n",
              "    </tr>\n",
              "  </thead>\n",
              "  <tbody>\n",
              "    <tr>\n",
              "      <th>95</th>\n",
              "      <td>0.038224</td>\n",
              "      <td>0.038224</td>\n",
              "      <td>0.154218</td>\n",
              "      <td>0.038000</td>\n",
              "      <td>0.038000</td>\n",
              "      <td>0.153937</td>\n",
              "      <td>95</td>\n",
              "    </tr>\n",
              "    <tr>\n",
              "      <th>96</th>\n",
              "      <td>0.038715</td>\n",
              "      <td>0.038715</td>\n",
              "      <td>0.155984</td>\n",
              "      <td>0.039943</td>\n",
              "      <td>0.039943</td>\n",
              "      <td>0.159053</td>\n",
              "      <td>96</td>\n",
              "    </tr>\n",
              "    <tr>\n",
              "      <th>97</th>\n",
              "      <td>0.038893</td>\n",
              "      <td>0.038893</td>\n",
              "      <td>0.156969</td>\n",
              "      <td>0.038019</td>\n",
              "      <td>0.038019</td>\n",
              "      <td>0.153491</td>\n",
              "      <td>97</td>\n",
              "    </tr>\n",
              "    <tr>\n",
              "      <th>98</th>\n",
              "      <td>0.038325</td>\n",
              "      <td>0.038325</td>\n",
              "      <td>0.154924</td>\n",
              "      <td>0.038304</td>\n",
              "      <td>0.038304</td>\n",
              "      <td>0.154366</td>\n",
              "      <td>98</td>\n",
              "    </tr>\n",
              "    <tr>\n",
              "      <th>99</th>\n",
              "      <td>0.038221</td>\n",
              "      <td>0.038221</td>\n",
              "      <td>0.154246</td>\n",
              "      <td>0.037955</td>\n",
              "      <td>0.037955</td>\n",
              "      <td>0.153275</td>\n",
              "      <td>99</td>\n",
              "    </tr>\n",
              "  </tbody>\n",
              "</table>\n",
              "</div>\n",
              "      <button class=\"colab-df-convert\" onclick=\"convertToInteractive('df-fa8466d7-d613-49a2-9774-1de648e9ac92')\"\n",
              "              title=\"Convert this dataframe to an interactive table.\"\n",
              "              style=\"display:none;\">\n",
              "        \n",
              "  <svg xmlns=\"http://www.w3.org/2000/svg\" height=\"24px\"viewBox=\"0 0 24 24\"\n",
              "       width=\"24px\">\n",
              "    <path d=\"M0 0h24v24H0V0z\" fill=\"none\"/>\n",
              "    <path d=\"M18.56 5.44l.94 2.06.94-2.06 2.06-.94-2.06-.94-.94-2.06-.94 2.06-2.06.94zm-11 1L8.5 8.5l.94-2.06 2.06-.94-2.06-.94L8.5 2.5l-.94 2.06-2.06.94zm10 10l.94 2.06.94-2.06 2.06-.94-2.06-.94-.94-2.06-.94 2.06-2.06.94z\"/><path d=\"M17.41 7.96l-1.37-1.37c-.4-.4-.92-.59-1.43-.59-.52 0-1.04.2-1.43.59L10.3 9.45l-7.72 7.72c-.78.78-.78 2.05 0 2.83L4 21.41c.39.39.9.59 1.41.59.51 0 1.02-.2 1.41-.59l7.78-7.78 2.81-2.81c.8-.78.8-2.07 0-2.86zM5.41 20L4 18.59l7.72-7.72 1.47 1.35L5.41 20z\"/>\n",
              "  </svg>\n",
              "      </button>\n",
              "      \n",
              "  <style>\n",
              "    .colab-df-container {\n",
              "      display:flex;\n",
              "      flex-wrap:wrap;\n",
              "      gap: 12px;\n",
              "    }\n",
              "\n",
              "    .colab-df-convert {\n",
              "      background-color: #E8F0FE;\n",
              "      border: none;\n",
              "      border-radius: 50%;\n",
              "      cursor: pointer;\n",
              "      display: none;\n",
              "      fill: #1967D2;\n",
              "      height: 32px;\n",
              "      padding: 0 0 0 0;\n",
              "      width: 32px;\n",
              "    }\n",
              "\n",
              "    .colab-df-convert:hover {\n",
              "      background-color: #E2EBFA;\n",
              "      box-shadow: 0px 1px 2px rgba(60, 64, 67, 0.3), 0px 1px 3px 1px rgba(60, 64, 67, 0.15);\n",
              "      fill: #174EA6;\n",
              "    }\n",
              "\n",
              "    [theme=dark] .colab-df-convert {\n",
              "      background-color: #3B4455;\n",
              "      fill: #D2E3FC;\n",
              "    }\n",
              "\n",
              "    [theme=dark] .colab-df-convert:hover {\n",
              "      background-color: #434B5C;\n",
              "      box-shadow: 0px 1px 3px 1px rgba(0, 0, 0, 0.15);\n",
              "      filter: drop-shadow(0px 1px 2px rgba(0, 0, 0, 0.3));\n",
              "      fill: #FFFFFF;\n",
              "    }\n",
              "  </style>\n",
              "\n",
              "      <script>\n",
              "        const buttonEl =\n",
              "          document.querySelector('#df-fa8466d7-d613-49a2-9774-1de648e9ac92 button.colab-df-convert');\n",
              "        buttonEl.style.display =\n",
              "          google.colab.kernel.accessAllowed ? 'block' : 'none';\n",
              "\n",
              "        async function convertToInteractive(key) {\n",
              "          const element = document.querySelector('#df-fa8466d7-d613-49a2-9774-1de648e9ac92');\n",
              "          const dataTable =\n",
              "            await google.colab.kernel.invokeFunction('convertToInteractive',\n",
              "                                                     [key], {});\n",
              "          if (!dataTable) return;\n",
              "\n",
              "          const docLinkHtml = 'Like what you see? Visit the ' +\n",
              "            '<a target=\"_blank\" href=https://colab.research.google.com/notebooks/data_table.ipynb>data table notebook</a>'\n",
              "            + ' to learn more about interactive tables.';\n",
              "          element.innerHTML = '';\n",
              "          dataTable['output_type'] = 'display_data';\n",
              "          await google.colab.output.renderOutput(dataTable, element);\n",
              "          const docLink = document.createElement('div');\n",
              "          docLink.innerHTML = docLinkHtml;\n",
              "          element.appendChild(docLink);\n",
              "        }\n",
              "      </script>\n",
              "    </div>\n",
              "  </div>\n",
              "  "
            ]
          },
          "metadata": {},
          "execution_count": 17
        }
      ]
    },
    {
      "cell_type": "markdown",
      "source": [
        "## Visualize Training History\n"
      ],
      "metadata": {
        "id": "dw7gK7_mHI1D"
      }
    },
    {
      "cell_type": "code",
      "source": [
        "# summarize history for Loss\n",
        "\n",
        "sns.set(rc={'figure.figsize':(6,4)})\n",
        "\n",
        "plt.plot(hist1.history['loss'])\n",
        "plt.plot(hist1.history['val_loss'])\n",
        "plt.title('model1 loss')\n",
        "plt.ylabel('loss')\n",
        "plt.xlabel('epoch')\n",
        "plt.legend(['train', 'test'], loc='upper left')\n",
        "plt.show()"
      ],
      "metadata": {
        "colab": {
          "base_uri": "https://localhost:8080/",
          "height": 301
        },
        "id": "I2N6Q5gxHHUU",
        "outputId": "9563902c-060c-4500-e8f8-15f054149cef"
      },
      "execution_count": 18,
      "outputs": [
        {
          "output_type": "display_data",
          "data": {
            "text/plain": [
              "<Figure size 432x288 with 1 Axes>"
            ],
            "image/png": "[encoded data removed]"
          },
          "metadata": {}
        }
      ]
    },
    {
      "cell_type": "code",
      "source": [
        "# summarize history for loss\n",
        "plt.plot(hist1.history['mse'])\n",
        "plt.plot(hist1.history['val_mse'])\n",
        "plt.title('model1 mse')\n",
        "plt.ylabel('mse')\n",
        "plt.xlabel('epoch')\n",
        "plt.legend(['train', 'test'], loc='upper left')\n",
        "plt.show() "
      ],
      "metadata": {
        "colab": {
          "base_uri": "https://localhost:8080/",
          "height": 301
        },
        "id": "0BFagrpGHP23",
        "outputId": "50872b46-fe6d-4873-a57b-bff81d48452b"
      },
      "execution_count": 19,
      "outputs": [
        {
          "output_type": "display_data",
          "data": {
            "text/plain": [
              "<Figure size 432x288 with 1 Axes>"
            ],
            "image/png": "[encoded data removed]"
          },
          "metadata": {}
        }
      ]
    },
    {
      "cell_type": "code",
      "source": [],
      "metadata": {
        "id": "Hn5f1f9_HXNp"
      },
      "execution_count": null,
      "outputs": []
    }
  ]
}