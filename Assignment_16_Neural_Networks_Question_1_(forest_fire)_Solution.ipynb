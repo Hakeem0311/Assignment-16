{
  "nbformat": 4,
  "nbformat_minor": 0,
  "metadata": {
    "colab": {
      "provenance": []
    },
    "kernelspec": {
      "name": "python3",
      "display_name": "Python 3"
    },
    "language_info": {
      "name": "python"
    }
  },
  "cells": [
    {
      "cell_type": "markdown",
      "source": [
        "### PREDICT THE BURNED AREA OF FOREST FIRES WITH NEURAL NETWORKS"
      ],
      "metadata": {
        "id": "19pQA8KD3m0z"
      }
    },
    {
      "cell_type": "markdown",
      "source": [
        "#### Import libraries\n"
      ],
      "metadata": {
        "id": "RK3ez93M3y9S"
      }
    },
    {
      "cell_type": "code",
      "execution_count": 1,
      "metadata": {
        "id": "5_rb0f592xwT"
      },
      "outputs": [],
      "source": [
        "import keras\n",
        "import pandas as pd\n",
        "import numpy as np\n",
        "from sklearn.model_selection import train_test_split, cross_val_score\n",
        "import seaborn as sns\n",
        "from keras.models import Sequential\n",
        "from keras.layers import Dense\n",
        "from matplotlib import pyplot as plt\n",
        "%matplotlib inline\n",
        "from sklearn.decomposition import PCA\n",
        "import tensorflow as tf\n",
        "tf.debugging.set_log_device_placement(False) \n",
        "import warnings\n",
        "warnings.filterwarnings('ignore')"
      ]
    },
    {
      "cell_type": "code",
      "source": [
        "# Generating reproducible results from same code\n",
        "tf.random.set_seed(14) "
      ],
      "metadata": {
        "id": "llTwY2BV3mD3"
      },
      "execution_count": 2,
      "outputs": []
    },
    {
      "cell_type": "code",
      "source": [
        "forest=pd.read_csv('forestfires.csv')\n",
        "forest.head()"
      ],
      "metadata": {
        "colab": {
          "base_uri": "https://localhost:8080/",
          "height": 299
        },
        "id": "QWmXFfOM4ByA",
        "outputId": "57d40604-4d23-4fd2-e767-c97deba5d4db"
      },
      "execution_count": 3,
      "outputs": [
        {
          "output_type": "execute_result",
          "data": {
            "text/plain": [
              "  month  day  FFMC   DMC     DC  ISI  temp  RH  wind  rain  ...  monthfeb  \\\n",
              "0   mar  fri  86.2  26.2   94.3  5.1   8.2  51   6.7   0.0  ...         0   \n",
              "1   oct  tue  90.6  35.4  669.1  6.7  18.0  33   0.9   0.0  ...         0   \n",
              "2   oct  sat  90.6  43.7  686.9  6.7  14.6  33   1.3   0.0  ...         0   \n",
              "3   mar  fri  91.7  33.3   77.5  9.0   8.3  97   4.0   0.2  ...         0   \n",
              "4   mar  sun  89.3  51.3  102.2  9.6  11.4  99   1.8   0.0  ...         0   \n",
              "\n",
              "   monthjan  monthjul  monthjun  monthmar  monthmay  monthnov  monthoct  \\\n",
              "0         0         0         0         1         0         0         0   \n",
              "1         0         0         0         0         0         0         1   \n",
              "2         0         0         0         0         0         0         1   \n",
              "3         0         0         0         1         0         0         0   \n",
              "4         0         0         0         1         0         0         0   \n",
              "\n",
              "   monthsep  size_category  \n",
              "0         0          small  \n",
              "1         0          small  \n",
              "2         0          small  \n",
              "3         0          small  \n",
              "4         0          small  \n",
              "\n",
              "[5 rows x 31 columns]"
            ],
            "text/html": [
              "\n",
              "  <div id=\"df-0bf7b282-558f-477e-85ea-776be051a7ff\">\n",
              "    <div class=\"colab-df-container\">\n",
              "      <div>\n",
              "<style scoped>\n",
              "    .dataframe tbody tr th:only-of-type {\n",
              "        vertical-align: middle;\n",
              "    }\n",
              "\n",
              "    .dataframe tbody tr th {\n",
              "        vertical-align: top;\n",
              "    }\n",
              "\n",
              "    .dataframe thead th {\n",
              "        text-align: right;\n",
              "    }\n",
              "</style>\n",
              "<table border=\"1\" class=\"dataframe\">\n",
              "  <thead>\n",
              "    <tr style=\"text-align: right;\">\n",
              "      <th></th>\n",
              "      <th>month</th>\n",
              "      <th>day</th>\n",
              "      <th>FFMC</th>\n",
              "      <th>DMC</th>\n",
              "      <th>DC</th>\n",
              "      <th>ISI</th>\n",
              "      <th>temp</th>\n",
              "      <th>RH</th>\n",
              "      <th>wind</th>\n",
              "      <th>rain</th>\n",
              "      <th>...</th>\n",
              "      <th>monthfeb</th>\n",
              "      <th>monthjan</th>\n",
              "      <th>monthjul</th>\n",
              "      <th>monthjun</th>\n",
              "      <th>monthmar</th>\n",
              "      <th>monthmay</th>\n",
              "      <th>monthnov</th>\n",
              "      <th>monthoct</th>\n",
              "      <th>monthsep</th>\n",
              "      <th>size_category</th>\n",
              "    </tr>\n",
              "  </thead>\n",
              "  <tbody>\n",
              "    <tr>\n",
              "      <th>0</th>\n",
              "      <td>mar</td>\n",
              "      <td>fri</td>\n",
              "      <td>86.2</td>\n",
              "      <td>26.2</td>\n",
              "      <td>94.3</td>\n",
              "      <td>5.1</td>\n",
              "      <td>8.2</td>\n",
              "      <td>51</td>\n",
              "      <td>6.7</td>\n",
              "      <td>0.0</td>\n",
              "      <td>...</td>\n",
              "      <td>0</td>\n",
              "      <td>0</td>\n",
              "      <td>0</td>\n",
              "      <td>0</td>\n",
              "      <td>1</td>\n",
              "      <td>0</td>\n",
              "      <td>0</td>\n",
              "      <td>0</td>\n",
              "      <td>0</td>\n",
              "      <td>small</td>\n",
              "    </tr>\n",
              "    <tr>\n",
              "      <th>1</th>\n",
              "      <td>oct</td>\n",
              "      <td>tue</td>\n",
              "      <td>90.6</td>\n",
              "      <td>35.4</td>\n",
              "      <td>669.1</td>\n",
              "      <td>6.7</td>\n",
              "      <td>18.0</td>\n",
              "      <td>33</td>\n",
              "      <td>0.9</td>\n",
              "      <td>0.0</td>\n",
              "      <td>...</td>\n",
              "      <td>0</td>\n",
              "      <td>0</td>\n",
              "      <td>0</td>\n",
              "      <td>0</td>\n",
              "      <td>0</td>\n",
              "      <td>0</td>\n",
              "      <td>0</td>\n",
              "      <td>1</td>\n",
              "      <td>0</td>\n",
              "      <td>small</td>\n",
              "    </tr>\n",
              "    <tr>\n",
              "      <th>2</th>\n",
              "      <td>oct</td>\n",
              "      <td>sat</td>\n",
              "      <td>90.6</td>\n",
              "      <td>43.7</td>\n",
              "      <td>686.9</td>\n",
              "      <td>6.7</td>\n",
              "      <td>14.6</td>\n",
              "      <td>33</td>\n",
              "      <td>1.3</td>\n",
              "      <td>0.0</td>\n",
              "      <td>...</td>\n",
              "      <td>0</td>\n",
              "      <td>0</td>\n",
              "      <td>0</td>\n",
              "      <td>0</td>\n",
              "      <td>0</td>\n",
              "      <td>0</td>\n",
              "      <td>0</td>\n",
              "      <td>1</td>\n",
              "      <td>0</td>\n",
              "      <td>small</td>\n",
              "    </tr>\n",
              "    <tr>\n",
              "      <th>3</th>\n",
              "      <td>mar</td>\n",
              "      <td>fri</td>\n",
              "      <td>91.7</td>\n",
              "      <td>33.3</td>\n",
              "      <td>77.5</td>\n",
              "      <td>9.0</td>\n",
              "      <td>8.3</td>\n",
              "      <td>97</td>\n",
              "      <td>4.0</td>\n",
              "      <td>0.2</td>\n",
              "      <td>...</td>\n",
              "      <td>0</td>\n",
              "      <td>0</td>\n",
              "      <td>0</td>\n",
              "      <td>0</td>\n",
              "      <td>1</td>\n",
              "      <td>0</td>\n",
              "      <td>0</td>\n",
              "      <td>0</td>\n",
              "      <td>0</td>\n",
              "      <td>small</td>\n",
              "    </tr>\n",
              "    <tr>\n",
              "      <th>4</th>\n",
              "      <td>mar</td>\n",
              "      <td>sun</td>\n",
              "      <td>89.3</td>\n",
              "      <td>51.3</td>\n",
              "      <td>102.2</td>\n",
              "      <td>9.6</td>\n",
              "      <td>11.4</td>\n",
              "      <td>99</td>\n",
              "      <td>1.8</td>\n",
              "      <td>0.0</td>\n",
              "      <td>...</td>\n",
              "      <td>0</td>\n",
              "      <td>0</td>\n",
              "      <td>0</td>\n",
              "      <td>0</td>\n",
              "      <td>1</td>\n",
              "      <td>0</td>\n",
              "      <td>0</td>\n",
              "      <td>0</td>\n",
              "      <td>0</td>\n",
              "      <td>small</td>\n",
              "    </tr>\n",
              "  </tbody>\n",
              "</table>\n",
              "<p>5 rows × 31 columns</p>\n",
              "</div>\n",
              "      <button class=\"colab-df-convert\" onclick=\"convertToInteractive('df-0bf7b282-558f-477e-85ea-776be051a7ff')\"\n",
              "              title=\"Convert this dataframe to an interactive table.\"\n",
              "              style=\"display:none;\">\n",
              "        \n",
              "  <svg xmlns=\"http://www.w3.org/2000/svg\" height=\"24px\"viewBox=\"0 0 24 24\"\n",
              "       width=\"24px\">\n",
              "    <path d=\"M0 0h24v24H0V0z\" fill=\"none\"/>\n",
              "    <path d=\"M18.56 5.44l.94 2.06.94-2.06 2.06-.94-2.06-.94-.94-2.06-.94 2.06-2.06.94zm-11 1L8.5 8.5l.94-2.06 2.06-.94-2.06-.94L8.5 2.5l-.94 2.06-2.06.94zm10 10l.94 2.06.94-2.06 2.06-.94-2.06-.94-.94-2.06-.94 2.06-2.06.94z\"/><path d=\"M17.41 7.96l-1.37-1.37c-.4-.4-.92-.59-1.43-.59-.52 0-1.04.2-1.43.59L10.3 9.45l-7.72 7.72c-.78.78-.78 2.05 0 2.83L4 21.41c.39.39.9.59 1.41.59.51 0 1.02-.2 1.41-.59l7.78-7.78 2.81-2.81c.8-.78.8-2.07 0-2.86zM5.41 20L4 18.59l7.72-7.72 1.47 1.35L5.41 20z\"/>\n",
              "  </svg>\n",
              "      </button>\n",
              "      \n",
              "  <style>\n",
              "    .colab-df-container {\n",
              "      display:flex;\n",
              "      flex-wrap:wrap;\n",
              "      gap: 12px;\n",
              "    }\n",
              "\n",
              "    .colab-df-convert {\n",
              "      background-color: #E8F0FE;\n",
              "      border: none;\n",
              "      border-radius: 50%;\n",
              "      cursor: pointer;\n",
              "      display: none;\n",
              "      fill: #1967D2;\n",
              "      height: 32px;\n",
              "      padding: 0 0 0 0;\n",
              "      width: 32px;\n",
              "    }\n",
              "\n",
              "    .colab-df-convert:hover {\n",
              "      background-color: #E2EBFA;\n",
              "      box-shadow: 0px 1px 2px rgba(60, 64, 67, 0.3), 0px 1px 3px 1px rgba(60, 64, 67, 0.15);\n",
              "      fill: #174EA6;\n",
              "    }\n",
              "\n",
              "    [theme=dark] .colab-df-convert {\n",
              "      background-color: #3B4455;\n",
              "      fill: #D2E3FC;\n",
              "    }\n",
              "\n",
              "    [theme=dark] .colab-df-convert:hover {\n",
              "      background-color: #434B5C;\n",
              "      box-shadow: 0px 1px 3px 1px rgba(0, 0, 0, 0.15);\n",
              "      filter: drop-shadow(0px 1px 2px rgba(0, 0, 0, 0.3));\n",
              "      fill: #FFFFFF;\n",
              "    }\n",
              "  </style>\n",
              "\n",
              "      <script>\n",
              "        const buttonEl =\n",
              "          document.querySelector('#df-0bf7b282-558f-477e-85ea-776be051a7ff button.colab-df-convert');\n",
              "        buttonEl.style.display =\n",
              "          google.colab.kernel.accessAllowed ? 'block' : 'none';\n",
              "\n",
              "        async function convertToInteractive(key) {\n",
              "          const element = document.querySelector('#df-0bf7b282-558f-477e-85ea-776be051a7ff');\n",
              "          const dataTable =\n",
              "            await google.colab.kernel.invokeFunction('convertToInteractive',\n",
              "                                                     [key], {});\n",
              "          if (!dataTable) return;\n",
              "\n",
              "          const docLinkHtml = 'Like what you see? Visit the ' +\n",
              "            '<a target=\"_blank\" href=https://colab.research.google.com/notebooks/data_table.ipynb>data table notebook</a>'\n",
              "            + ' to learn more about interactive tables.';\n",
              "          element.innerHTML = '';\n",
              "          dataTable['output_type'] = 'display_data';\n",
              "          await google.colab.output.renderOutput(dataTable, element);\n",
              "          const docLink = document.createElement('div');\n",
              "          docLink.innerHTML = docLinkHtml;\n",
              "          element.appendChild(docLink);\n",
              "        }\n",
              "      </script>\n",
              "    </div>\n",
              "  </div>\n",
              "  "
            ]
          },
          "metadata": {},
          "execution_count": 3
        }
      ]
    },
    {
      "cell_type": "code",
      "source": [
        "df = forest.copy() #Removing the dummies at this time\n",
        "df.drop(df.columns[11:30],axis=1,inplace = True)"
      ],
      "metadata": {
        "id": "JmbZO8Iu4IMq"
      },
      "execution_count": 4,
      "outputs": []
    },
    {
      "cell_type": "code",
      "source": [
        "df.shape\n"
      ],
      "metadata": {
        "colab": {
          "base_uri": "https://localhost:8080/"
        },
        "id": "rRzbI8so45xC",
        "outputId": "2b16ec58-6d65-4949-a51a-89468a06f7d7"
      },
      "execution_count": 5,
      "outputs": [
        {
          "output_type": "execute_result",
          "data": {
            "text/plain": [
              "(517, 12)"
            ]
          },
          "metadata": {},
          "execution_count": 5
        }
      ]
    },
    {
      "cell_type": "code",
      "source": [
        "df.info()\n"
      ],
      "metadata": {
        "colab": {
          "base_uri": "https://localhost:8080/"
        },
        "id": "MCrkrzWJ47uD",
        "outputId": "7c3e6277-c400-4eed-eadb-b1805e7a4080"
      },
      "execution_count": 6,
      "outputs": [
        {
          "output_type": "stream",
          "name": "stdout",
          "text": [
            "<class 'pandas.core.frame.DataFrame'>\n",
            "RangeIndex: 517 entries, 0 to 516\n",
            "Data columns (total 12 columns):\n",
            " #   Column         Non-Null Count  Dtype  \n",
            "---  ------         --------------  -----  \n",
            " 0   month          517 non-null    object \n",
            " 1   day            517 non-null    object \n",
            " 2   FFMC           517 non-null    float64\n",
            " 3   DMC            517 non-null    float64\n",
            " 4   DC             517 non-null    float64\n",
            " 5   ISI            517 non-null    float64\n",
            " 6   temp           517 non-null    float64\n",
            " 7   RH             517 non-null    int64  \n",
            " 8   wind           517 non-null    float64\n",
            " 9   rain           517 non-null    float64\n",
            " 10  area           517 non-null    float64\n",
            " 11  size_category  517 non-null    object \n",
            "dtypes: float64(8), int64(1), object(3)\n",
            "memory usage: 48.6+ KB\n"
          ]
        }
      ]
    },
    {
      "cell_type": "code",
      "source": [
        "df.columns\n"
      ],
      "metadata": {
        "colab": {
          "base_uri": "https://localhost:8080/"
        },
        "id": "L_CU286W49ix",
        "outputId": "7a4af751-9921-464a-bbb4-26d35b8aa281"
      },
      "execution_count": 7,
      "outputs": [
        {
          "output_type": "execute_result",
          "data": {
            "text/plain": [
              "Index(['month', 'day', 'FFMC', 'DMC', 'DC', 'ISI', 'temp', 'RH', 'wind',\n",
              "       'rain', 'area', 'size_category'],\n",
              "      dtype='object')"
            ]
          },
          "metadata": {},
          "execution_count": 7
        }
      ]
    },
    {
      "cell_type": "code",
      "source": [
        "df.info()\n"
      ],
      "metadata": {
        "colab": {
          "base_uri": "https://localhost:8080/"
        },
        "id": "UA5YvWPL5BEe",
        "outputId": "21a5635b-1e03-43e4-86b6-b62132fd10d5"
      },
      "execution_count": 8,
      "outputs": [
        {
          "output_type": "stream",
          "name": "stdout",
          "text": [
            "<class 'pandas.core.frame.DataFrame'>\n",
            "RangeIndex: 517 entries, 0 to 516\n",
            "Data columns (total 12 columns):\n",
            " #   Column         Non-Null Count  Dtype  \n",
            "---  ------         --------------  -----  \n",
            " 0   month          517 non-null    object \n",
            " 1   day            517 non-null    object \n",
            " 2   FFMC           517 non-null    float64\n",
            " 3   DMC            517 non-null    float64\n",
            " 4   DC             517 non-null    float64\n",
            " 5   ISI            517 non-null    float64\n",
            " 6   temp           517 non-null    float64\n",
            " 7   RH             517 non-null    int64  \n",
            " 8   wind           517 non-null    float64\n",
            " 9   rain           517 non-null    float64\n",
            " 10  area           517 non-null    float64\n",
            " 11  size_category  517 non-null    object \n",
            "dtypes: float64(8), int64(1), object(3)\n",
            "memory usage: 48.6+ KB\n"
          ]
        }
      ]
    },
    {
      "cell_type": "code",
      "source": [
        "df.isnull().sum()\n"
      ],
      "metadata": {
        "colab": {
          "base_uri": "https://localhost:8080/"
        },
        "id": "716NQGqV5D82",
        "outputId": "2a119d61-cc4a-4c31-9b09-30ef4f11e8bf"
      },
      "execution_count": 9,
      "outputs": [
        {
          "output_type": "execute_result",
          "data": {
            "text/plain": [
              "month            0\n",
              "day              0\n",
              "FFMC             0\n",
              "DMC              0\n",
              "DC               0\n",
              "ISI              0\n",
              "temp             0\n",
              "RH               0\n",
              "wind             0\n",
              "rain             0\n",
              "area             0\n",
              "size_category    0\n",
              "dtype: int64"
            ]
          },
          "metadata": {},
          "execution_count": 9
        }
      ]
    },
    {
      "cell_type": "markdown",
      "source": [
        "## Feature Analysis\n"
      ],
      "metadata": {
        "id": "Ke-UW6qK5IV1"
      }
    },
    {
      "cell_type": "code",
      "source": [
        "df.month.value_counts()\n"
      ],
      "metadata": {
        "colab": {
          "base_uri": "https://localhost:8080/"
        },
        "id": "Gz83LQ_a5GMl",
        "outputId": "0a246fc9-697d-42ce-978d-dd68afc6b1e7"
      },
      "execution_count": 10,
      "outputs": [
        {
          "output_type": "execute_result",
          "data": {
            "text/plain": [
              "aug    184\n",
              "sep    172\n",
              "mar     54\n",
              "jul     32\n",
              "feb     20\n",
              "jun     17\n",
              "oct     15\n",
              "apr      9\n",
              "dec      9\n",
              "jan      2\n",
              "may      2\n",
              "nov      1\n",
              "Name: month, dtype: int64"
            ]
          },
          "metadata": {},
          "execution_count": 10
        }
      ]
    },
    {
      "cell_type": "code",
      "source": [
        " # The dataset is biased. Lets remove the bias.\n",
        "df.size_category.value_counts() "
      ],
      "metadata": {
        "colab": {
          "base_uri": "https://localhost:8080/"
        },
        "id": "THT23BKl5PKK",
        "outputId": "b4fe7f3f-4e55-4298-f4e0-9c5040dafe1f"
      },
      "execution_count": 11,
      "outputs": [
        {
          "output_type": "execute_result",
          "data": {
            "text/plain": [
              "small    378\n",
              "large    139\n",
              "Name: size_category, dtype: int64"
            ]
          },
          "metadata": {},
          "execution_count": 11
        }
      ]
    },
    {
      "cell_type": "markdown",
      "source": [
        "## label encoding\n"
      ],
      "metadata": {
        "id": "3G-kmhwm5VgJ"
      }
    },
    {
      "cell_type": "code",
      "source": [
        "#We are going to perform label encoding since it is faster than dummy variables\n",
        "\n",
        "from sklearn import preprocessing\n",
        "label_encoder = preprocessing.LabelEncoder()\n",
        "df.month= label_encoder.fit_transform(df.month) \n",
        "df.day= label_encoder.fit_transform(df.day) \n",
        "df.size_category= label_encoder.fit_transform(df.size_category) \n",
        "df.head()"
      ],
      "metadata": {
        "colab": {
          "base_uri": "https://localhost:8080/",
          "height": 250
        },
        "id": "EOmKYJJC5T37",
        "outputId": "d526791c-9f81-4d19-e53d-9c91edb9ad5b"
      },
      "execution_count": 12,
      "outputs": [
        {
          "output_type": "execute_result",
          "data": {
            "text/plain": [
              "   month  day  FFMC   DMC     DC  ISI  temp  RH  wind  rain  area  \\\n",
              "0      7    0  86.2  26.2   94.3  5.1   8.2  51   6.7   0.0   0.0   \n",
              "1     10    5  90.6  35.4  669.1  6.7  18.0  33   0.9   0.0   0.0   \n",
              "2     10    2  90.6  43.7  686.9  6.7  14.6  33   1.3   0.0   0.0   \n",
              "3      7    0  91.7  33.3   77.5  9.0   8.3  97   4.0   0.2   0.0   \n",
              "4      7    3  89.3  51.3  102.2  9.6  11.4  99   1.8   0.0   0.0   \n",
              "\n",
              "   size_category  \n",
              "0              1  \n",
              "1              1  \n",
              "2              1  \n",
              "3              1  \n",
              "4              1  "
            ],
            "text/html": [
              "\n",
              "  <div id=\"df-815c402d-8265-4b95-be28-420705d86a4e\">\n",
              "    <div class=\"colab-df-container\">\n",
              "      <div>\n",
              "<style scoped>\n",
              "    .dataframe tbody tr th:only-of-type {\n",
              "        vertical-align: middle;\n",
              "    }\n",
              "\n",
              "    .dataframe tbody tr th {\n",
              "        vertical-align: top;\n",
              "    }\n",
              "\n",
              "    .dataframe thead th {\n",
              "        text-align: right;\n",
              "    }\n",
              "</style>\n",
              "<table border=\"1\" class=\"dataframe\">\n",
              "  <thead>\n",
              "    <tr style=\"text-align: right;\">\n",
              "      <th></th>\n",
              "      <th>month</th>\n",
              "      <th>day</th>\n",
              "      <th>FFMC</th>\n",
              "      <th>DMC</th>\n",
              "      <th>DC</th>\n",
              "      <th>ISI</th>\n",
              "      <th>temp</th>\n",
              "      <th>RH</th>\n",
              "      <th>wind</th>\n",
              "      <th>rain</th>\n",
              "      <th>area</th>\n",
              "      <th>size_category</th>\n",
              "    </tr>\n",
              "  </thead>\n",
              "  <tbody>\n",
              "    <tr>\n",
              "      <th>0</th>\n",
              "      <td>7</td>\n",
              "      <td>0</td>\n",
              "      <td>86.2</td>\n",
              "      <td>26.2</td>\n",
              "      <td>94.3</td>\n",
              "      <td>5.1</td>\n",
              "      <td>8.2</td>\n",
              "      <td>51</td>\n",
              "      <td>6.7</td>\n",
              "      <td>0.0</td>\n",
              "      <td>0.0</td>\n",
              "      <td>1</td>\n",
              "    </tr>\n",
              "    <tr>\n",
              "      <th>1</th>\n",
              "      <td>10</td>\n",
              "      <td>5</td>\n",
              "      <td>90.6</td>\n",
              "      <td>35.4</td>\n",
              "      <td>669.1</td>\n",
              "      <td>6.7</td>\n",
              "      <td>18.0</td>\n",
              "      <td>33</td>\n",
              "      <td>0.9</td>\n",
              "      <td>0.0</td>\n",
              "      <td>0.0</td>\n",
              "      <td>1</td>\n",
              "    </tr>\n",
              "    <tr>\n",
              "      <th>2</th>\n",
              "      <td>10</td>\n",
              "      <td>2</td>\n",
              "      <td>90.6</td>\n",
              "      <td>43.7</td>\n",
              "      <td>686.9</td>\n",
              "      <td>6.7</td>\n",
              "      <td>14.6</td>\n",
              "      <td>33</td>\n",
              "      <td>1.3</td>\n",
              "      <td>0.0</td>\n",
              "      <td>0.0</td>\n",
              "      <td>1</td>\n",
              "    </tr>\n",
              "    <tr>\n",
              "      <th>3</th>\n",
              "      <td>7</td>\n",
              "      <td>0</td>\n",
              "      <td>91.7</td>\n",
              "      <td>33.3</td>\n",
              "      <td>77.5</td>\n",
              "      <td>9.0</td>\n",
              "      <td>8.3</td>\n",
              "      <td>97</td>\n",
              "      <td>4.0</td>\n",
              "      <td>0.2</td>\n",
              "      <td>0.0</td>\n",
              "      <td>1</td>\n",
              "    </tr>\n",
              "    <tr>\n",
              "      <th>4</th>\n",
              "      <td>7</td>\n",
              "      <td>3</td>\n",
              "      <td>89.3</td>\n",
              "      <td>51.3</td>\n",
              "      <td>102.2</td>\n",
              "      <td>9.6</td>\n",
              "      <td>11.4</td>\n",
              "      <td>99</td>\n",
              "      <td>1.8</td>\n",
              "      <td>0.0</td>\n",
              "      <td>0.0</td>\n",
              "      <td>1</td>\n",
              "    </tr>\n",
              "  </tbody>\n",
              "</table>\n",
              "</div>\n",
              "      <button class=\"colab-df-convert\" onclick=\"convertToInteractive('df-815c402d-8265-4b95-be28-420705d86a4e')\"\n",
              "              title=\"Convert this dataframe to an interactive table.\"\n",
              "              style=\"display:none;\">\n",
              "        \n",
              "  <svg xmlns=\"http://www.w3.org/2000/svg\" height=\"24px\"viewBox=\"0 0 24 24\"\n",
              "       width=\"24px\">\n",
              "    <path d=\"M0 0h24v24H0V0z\" fill=\"none\"/>\n",
              "    <path d=\"M18.56 5.44l.94 2.06.94-2.06 2.06-.94-2.06-.94-.94-2.06-.94 2.06-2.06.94zm-11 1L8.5 8.5l.94-2.06 2.06-.94-2.06-.94L8.5 2.5l-.94 2.06-2.06.94zm10 10l.94 2.06.94-2.06 2.06-.94-2.06-.94-.94-2.06-.94 2.06-2.06.94z\"/><path d=\"M17.41 7.96l-1.37-1.37c-.4-.4-.92-.59-1.43-.59-.52 0-1.04.2-1.43.59L10.3 9.45l-7.72 7.72c-.78.78-.78 2.05 0 2.83L4 21.41c.39.39.9.59 1.41.59.51 0 1.02-.2 1.41-.59l7.78-7.78 2.81-2.81c.8-.78.8-2.07 0-2.86zM5.41 20L4 18.59l7.72-7.72 1.47 1.35L5.41 20z\"/>\n",
              "  </svg>\n",
              "      </button>\n",
              "      \n",
              "  <style>\n",
              "    .colab-df-container {\n",
              "      display:flex;\n",
              "      flex-wrap:wrap;\n",
              "      gap: 12px;\n",
              "    }\n",
              "\n",
              "    .colab-df-convert {\n",
              "      background-color: #E8F0FE;\n",
              "      border: none;\n",
              "      border-radius: 50%;\n",
              "      cursor: pointer;\n",
              "      display: none;\n",
              "      fill: #1967D2;\n",
              "      height: 32px;\n",
              "      padding: 0 0 0 0;\n",
              "      width: 32px;\n",
              "    }\n",
              "\n",
              "    .colab-df-convert:hover {\n",
              "      background-color: #E2EBFA;\n",
              "      box-shadow: 0px 1px 2px rgba(60, 64, 67, 0.3), 0px 1px 3px 1px rgba(60, 64, 67, 0.15);\n",
              "      fill: #174EA6;\n",
              "    }\n",
              "\n",
              "    [theme=dark] .colab-df-convert {\n",
              "      background-color: #3B4455;\n",
              "      fill: #D2E3FC;\n",
              "    }\n",
              "\n",
              "    [theme=dark] .colab-df-convert:hover {\n",
              "      background-color: #434B5C;\n",
              "      box-shadow: 0px 1px 3px 1px rgba(0, 0, 0, 0.15);\n",
              "      filter: drop-shadow(0px 1px 2px rgba(0, 0, 0, 0.3));\n",
              "      fill: #FFFFFF;\n",
              "    }\n",
              "  </style>\n",
              "\n",
              "      <script>\n",
              "        const buttonEl =\n",
              "          document.querySelector('#df-815c402d-8265-4b95-be28-420705d86a4e button.colab-df-convert');\n",
              "        buttonEl.style.display =\n",
              "          google.colab.kernel.accessAllowed ? 'block' : 'none';\n",
              "\n",
              "        async function convertToInteractive(key) {\n",
              "          const element = document.querySelector('#df-815c402d-8265-4b95-be28-420705d86a4e');\n",
              "          const dataTable =\n",
              "            await google.colab.kernel.invokeFunction('convertToInteractive',\n",
              "                                                     [key], {});\n",
              "          if (!dataTable) return;\n",
              "\n",
              "          const docLinkHtml = 'Like what you see? Visit the ' +\n",
              "            '<a target=\"_blank\" href=https://colab.research.google.com/notebooks/data_table.ipynb>data table notebook</a>'\n",
              "            + ' to learn more about interactive tables.';\n",
              "          element.innerHTML = '';\n",
              "          dataTable['output_type'] = 'display_data';\n",
              "          await google.colab.output.renderOutput(dataTable, element);\n",
              "          const docLink = document.createElement('div');\n",
              "          docLink.innerHTML = docLinkHtml;\n",
              "          element.appendChild(docLink);\n",
              "        }\n",
              "      </script>\n",
              "    </div>\n",
              "  </div>\n",
              "  "
            ]
          },
          "metadata": {},
          "execution_count": 12
        }
      ]
    },
    {
      "cell_type": "markdown",
      "source": [
        "## Removing Bias in the Dataset\n"
      ],
      "metadata": {
        "id": "5b4pUJVv5gkI"
      }
    },
    {
      "cell_type": "code",
      "source": [
        "from imblearn.combine import SMOTETomek\n",
        "from collections import Counter\n",
        "\n",
        "resamp = df.copy()\n",
        "#SMOTEK TECHNIQUE\n",
        "\n",
        "#Define dataset\n",
        "a = resamp.iloc[:,:-1]\n",
        "b = resamp.iloc[:,-1]\n",
        "\n",
        "#Count before\n",
        "print(Counter(b))\n",
        "\n",
        "smt = SMOTETomek(sampling_strategy = 'auto')\n",
        "a, b = smt.fit_resample(a, b)\n",
        "\n",
        "#Count after\n",
        "print(Counter(b)) #removed bias in dataset"
      ],
      "metadata": {
        "colab": {
          "base_uri": "https://localhost:8080/"
        },
        "id": "2WbXngVs5eIT",
        "outputId": "5f61d18b-0f3a-4c16-de55-bd7ad529e93d"
      },
      "execution_count": 13,
      "outputs": [
        {
          "output_type": "stream",
          "name": "stdout",
          "text": [
            "Counter({1: 378, 0: 139})\n",
            "Counter({1: 373, 0: 373})\n"
          ]
        }
      ]
    },
    {
      "cell_type": "markdown",
      "source": [
        "## Train | Split dataset\n"
      ],
      "metadata": {
        "id": "qttq4rpI5pz4"
      }
    },
    {
      "cell_type": "code",
      "source": [
        "X = a\n",
        "Y = b\n",
        "X_train, X_test, y_train, y_test = train_test_split(X,Y, test_size = 0.3)"
      ],
      "metadata": {
        "id": "NynvBGe_5ncO"
      },
      "execution_count": 14,
      "outputs": []
    },
    {
      "cell_type": "markdown",
      "source": [
        "# Neural Network Modelling\n"
      ],
      "metadata": {
        "id": "gZCOMs-L50Ja"
      }
    },
    {
      "cell_type": "markdown",
      "source": [
        "Building the Model\n",
        "\n"
      ],
      "metadata": {
        "id": "HdSRovVo55S-"
      }
    },
    {
      "cell_type": "code",
      "source": [
        "# create model\n",
        "model = Sequential()\n",
        "model.add(Dense(14, input_dim=11, kernel_initializer='uniform', activation='relu'))\n",
        "model.add(Dense(12,kernel_initializer='uniform', activation='relu'))\n",
        "model.add(Dense(1, kernel_initializer='uniform', activation='sigmoid'))\n",
        "# Compile model\n",
        "model.compile(loss='binary_crossentropy', optimizer='adam', metrics=['accuracy'])\n",
        "# Fit the model\n",
        "hist = model.fit(X_train, y_train, validation_split=0.33, epochs=50, batch_size=10)"
      ],
      "metadata": {
        "colab": {
          "base_uri": "https://localhost:8080/"
        },
        "id": "sfX_Qwyg59ml",
        "outputId": "d63b1475-3cf0-4f12-d274-faa9c59fa5f5"
      },
      "execution_count": 15,
      "outputs": [
        {
          "output_type": "stream",
          "name": "stdout",
          "text": [
            "Epoch 1/50\n",
            "35/35 [==============================] - 2s 13ms/step - loss: 0.6898 - accuracy: 0.5272 - val_loss: 0.6834 - val_accuracy: 0.4682\n",
            "Epoch 2/50\n",
            "35/35 [==============================] - 0s 6ms/step - loss: 0.6692 - accuracy: 0.5702 - val_loss: 0.6559 - val_accuracy: 0.4682\n",
            "Epoch 3/50\n",
            "35/35 [==============================] - 0s 5ms/step - loss: 0.6306 - accuracy: 0.6390 - val_loss: 0.5839 - val_accuracy: 0.6763\n",
            "Epoch 4/50\n",
            "35/35 [==============================] - 0s 6ms/step - loss: 0.5382 - accuracy: 0.7937 - val_loss: 0.4857 - val_accuracy: 0.9249\n",
            "Epoch 5/50\n",
            "35/35 [==============================] - 0s 7ms/step - loss: 0.4469 - accuracy: 0.8195 - val_loss: 0.3963 - val_accuracy: 0.9653\n",
            "Epoch 6/50\n",
            "35/35 [==============================] - 0s 7ms/step - loss: 0.3479 - accuracy: 0.9169 - val_loss: 0.3502 - val_accuracy: 0.9249\n",
            "Epoch 7/50\n",
            "35/35 [==============================] - 0s 7ms/step - loss: 0.3041 - accuracy: 0.9169 - val_loss: 0.3216 - val_accuracy: 0.8208\n",
            "Epoch 8/50\n",
            "35/35 [==============================] - 0s 7ms/step - loss: 0.2330 - accuracy: 0.9398 - val_loss: 0.1978 - val_accuracy: 0.9769\n",
            "Epoch 9/50\n",
            "35/35 [==============================] - 0s 7ms/step - loss: 0.1563 - accuracy: 0.9799 - val_loss: 0.1376 - val_accuracy: 0.9711\n",
            "Epoch 10/50\n",
            "35/35 [==============================] - 0s 7ms/step - loss: 0.1199 - accuracy: 0.9799 - val_loss: 0.1318 - val_accuracy: 0.9364\n",
            "Epoch 11/50\n",
            "35/35 [==============================] - 0s 7ms/step - loss: 0.1020 - accuracy: 0.9828 - val_loss: 0.1314 - val_accuracy: 0.9538\n",
            "Epoch 12/50\n",
            "35/35 [==============================] - 0s 7ms/step - loss: 0.1075 - accuracy: 0.9685 - val_loss: 0.0904 - val_accuracy: 0.9711\n",
            "Epoch 13/50\n",
            "35/35 [==============================] - 0s 7ms/step - loss: 0.0821 - accuracy: 0.9799 - val_loss: 0.0744 - val_accuracy: 0.9827\n",
            "Epoch 14/50\n",
            "35/35 [==============================] - 0s 7ms/step - loss: 0.0605 - accuracy: 0.9943 - val_loss: 0.0772 - val_accuracy: 0.9769\n",
            "Epoch 15/50\n",
            "35/35 [==============================] - 0s 6ms/step - loss: 0.0684 - accuracy: 0.9799 - val_loss: 0.0710 - val_accuracy: 0.9769\n",
            "Epoch 16/50\n",
            "35/35 [==============================] - 0s 5ms/step - loss: 0.0576 - accuracy: 0.9799 - val_loss: 0.0592 - val_accuracy: 0.9827\n",
            "Epoch 17/50\n",
            "35/35 [==============================] - 0s 4ms/step - loss: 0.0497 - accuracy: 0.9943 - val_loss: 0.0561 - val_accuracy: 0.9827\n",
            "Epoch 18/50\n",
            "35/35 [==============================] - 0s 5ms/step - loss: 0.0515 - accuracy: 0.9914 - val_loss: 0.1647 - val_accuracy: 0.9191\n",
            "Epoch 19/50\n",
            "35/35 [==============================] - 0s 5ms/step - loss: 0.0536 - accuracy: 0.9885 - val_loss: 0.0793 - val_accuracy: 0.9653\n",
            "Epoch 20/50\n",
            "35/35 [==============================] - 0s 4ms/step - loss: 0.0357 - accuracy: 0.9943 - val_loss: 0.0532 - val_accuracy: 0.9884\n",
            "Epoch 21/50\n",
            "35/35 [==============================] - 0s 5ms/step - loss: 0.0290 - accuracy: 1.0000 - val_loss: 0.0674 - val_accuracy: 0.9595\n",
            "Epoch 22/50\n",
            "35/35 [==============================] - 0s 5ms/step - loss: 0.0426 - accuracy: 0.9828 - val_loss: 0.0477 - val_accuracy: 0.9827\n",
            "Epoch 23/50\n",
            "35/35 [==============================] - 0s 4ms/step - loss: 0.0797 - accuracy: 0.9685 - val_loss: 0.0810 - val_accuracy: 0.9538\n",
            "Epoch 24/50\n",
            "35/35 [==============================] - 0s 5ms/step - loss: 0.0377 - accuracy: 0.9857 - val_loss: 0.0457 - val_accuracy: 0.9769\n",
            "Epoch 25/50\n",
            "35/35 [==============================] - 0s 5ms/step - loss: 0.0245 - accuracy: 0.9943 - val_loss: 0.0481 - val_accuracy: 0.9884\n",
            "Epoch 26/50\n",
            "35/35 [==============================] - 0s 4ms/step - loss: 0.0244 - accuracy: 0.9943 - val_loss: 0.0979 - val_accuracy: 0.9653\n",
            "Epoch 27/50\n",
            "35/35 [==============================] - 0s 4ms/step - loss: 0.0279 - accuracy: 0.9914 - val_loss: 0.0662 - val_accuracy: 0.9595\n",
            "Epoch 28/50\n",
            "35/35 [==============================] - 0s 5ms/step - loss: 0.0395 - accuracy: 0.9885 - val_loss: 0.0810 - val_accuracy: 0.9538\n",
            "Epoch 29/50\n",
            "35/35 [==============================] - 0s 5ms/step - loss: 0.1194 - accuracy: 0.9542 - val_loss: 0.0578 - val_accuracy: 0.9595\n",
            "Epoch 30/50\n",
            "35/35 [==============================] - 0s 5ms/step - loss: 0.0226 - accuracy: 0.9971 - val_loss: 0.0430 - val_accuracy: 0.9827\n",
            "Epoch 31/50\n",
            "35/35 [==============================] - 0s 5ms/step - loss: 0.0222 - accuracy: 0.9943 - val_loss: 0.0419 - val_accuracy: 0.9769\n",
            "Epoch 32/50\n",
            "35/35 [==============================] - 0s 4ms/step - loss: 0.0256 - accuracy: 0.9914 - val_loss: 0.0415 - val_accuracy: 0.9769\n",
            "Epoch 33/50\n",
            "35/35 [==============================] - 0s 5ms/step - loss: 0.0291 - accuracy: 0.9914 - val_loss: 0.0539 - val_accuracy: 0.9769\n",
            "Epoch 34/50\n",
            "35/35 [==============================] - 0s 5ms/step - loss: 0.0220 - accuracy: 0.9943 - val_loss: 0.0566 - val_accuracy: 0.9769\n",
            "Epoch 35/50\n",
            "35/35 [==============================] - 0s 5ms/step - loss: 0.0188 - accuracy: 1.0000 - val_loss: 0.0430 - val_accuracy: 0.9827\n",
            "Epoch 36/50\n",
            "35/35 [==============================] - 0s 4ms/step - loss: 0.0199 - accuracy: 0.9943 - val_loss: 0.0654 - val_accuracy: 0.9769\n",
            "Epoch 37/50\n",
            "35/35 [==============================] - 0s 5ms/step - loss: 0.0345 - accuracy: 0.9857 - val_loss: 0.0481 - val_accuracy: 0.9827\n",
            "Epoch 38/50\n",
            "35/35 [==============================] - 0s 5ms/step - loss: 0.0121 - accuracy: 1.0000 - val_loss: 0.0479 - val_accuracy: 0.9827\n",
            "Epoch 39/50\n",
            "35/35 [==============================] - 0s 5ms/step - loss: 0.0133 - accuracy: 1.0000 - val_loss: 0.0457 - val_accuracy: 0.9884\n",
            "Epoch 40/50\n",
            "35/35 [==============================] - 0s 4ms/step - loss: 0.0217 - accuracy: 0.9914 - val_loss: 0.0942 - val_accuracy: 0.9538\n",
            "Epoch 41/50\n",
            "35/35 [==============================] - 0s 4ms/step - loss: 0.0207 - accuracy: 0.9914 - val_loss: 0.1414 - val_accuracy: 0.9595\n",
            "Epoch 42/50\n",
            "35/35 [==============================] - 0s 5ms/step - loss: 0.0324 - accuracy: 0.9857 - val_loss: 0.0474 - val_accuracy: 0.9827\n",
            "Epoch 43/50\n",
            "35/35 [==============================] - 0s 5ms/step - loss: 0.0146 - accuracy: 1.0000 - val_loss: 0.0418 - val_accuracy: 0.9769\n",
            "Epoch 44/50\n",
            "35/35 [==============================] - 0s 5ms/step - loss: 0.0140 - accuracy: 0.9971 - val_loss: 0.0411 - val_accuracy: 0.9769\n",
            "Epoch 45/50\n",
            "35/35 [==============================] - 0s 5ms/step - loss: 0.0267 - accuracy: 0.9914 - val_loss: 0.0761 - val_accuracy: 0.9538\n",
            "Epoch 46/50\n",
            "35/35 [==============================] - 0s 5ms/step - loss: 0.0192 - accuracy: 0.9914 - val_loss: 0.0487 - val_accuracy: 0.9827\n",
            "Epoch 47/50\n",
            "35/35 [==============================] - 0s 5ms/step - loss: 0.0092 - accuracy: 1.0000 - val_loss: 0.0631 - val_accuracy: 0.9595\n",
            "Epoch 48/50\n",
            "35/35 [==============================] - 0s 4ms/step - loss: 0.0091 - accuracy: 0.9971 - val_loss: 0.0413 - val_accuracy: 0.9769\n",
            "Epoch 49/50\n",
            "35/35 [==============================] - 0s 5ms/step - loss: 0.0089 - accuracy: 1.0000 - val_loss: 0.0460 - val_accuracy: 0.9827\n",
            "Epoch 50/50\n",
            "35/35 [==============================] - 0s 5ms/step - loss: 0.0214 - accuracy: 0.9914 - val_loss: 0.0652 - val_accuracy: 0.9769\n"
          ]
        }
      ]
    },
    {
      "cell_type": "markdown",
      "source": [
        "## Model Evaluation\n"
      ],
      "metadata": {
        "id": "OrAf_E346LTY"
      }
    },
    {
      "cell_type": "code",
      "source": [
        "test_loss, test_acc = model.evaluate(X_test, y_test)\n"
      ],
      "metadata": {
        "colab": {
          "base_uri": "https://localhost:8080/"
        },
        "id": "uU-i26sb5wXy",
        "outputId": "3cc27684-3411-4870-ec73-9c37c8195e9f"
      },
      "execution_count": 16,
      "outputs": [
        {
          "output_type": "stream",
          "name": "stdout",
          "text": [
            "7/7 [==============================] - 0s 3ms/step - loss: 0.0337 - accuracy: 0.9821\n"
          ]
        }
      ]
    },
    {
      "cell_type": "code",
      "source": [
        "print(hist.history.keys())\n"
      ],
      "metadata": {
        "colab": {
          "base_uri": "https://localhost:8080/"
        },
        "id": "KUKVRHZM6RgC",
        "outputId": "4f5bec77-3e76-4c8a-94b5-495355041516"
      },
      "execution_count": 17,
      "outputs": [
        {
          "output_type": "stream",
          "name": "stdout",
          "text": [
            "dict_keys(['loss', 'accuracy', 'val_loss', 'val_accuracy'])\n"
          ]
        }
      ]
    },
    {
      "cell_type": "code",
      "source": [
        "hist_df = pd.DataFrame(hist.history)\n",
        "hist_df[\"epoch\"]=hist.epoch\n",
        "hist_df.tail()"
      ],
      "metadata": {
        "colab": {
          "base_uri": "https://localhost:8080/",
          "height": 206
        },
        "id": "iStRItI36Tio",
        "outputId": "dffee210-e1a5-4918-a4be-bdac93b09d6c"
      },
      "execution_count": 18,
      "outputs": [
        {
          "output_type": "execute_result",
          "data": {
            "text/plain": [
              "        loss  accuracy  val_loss  val_accuracy  epoch\n",
              "45  0.019161  0.991404  0.048695      0.982659     45\n",
              "46  0.009168  1.000000  0.063126      0.959538     46\n",
              "47  0.009142  0.997135  0.041297      0.976879     47\n",
              "48  0.008867  1.000000  0.045968      0.982659     48\n",
              "49  0.021428  0.991404  0.065235      0.976879     49"
            ],
            "text/html": [
              "\n",
              "  <div id=\"df-c388af62-d1ba-45bc-84db-32b7172f1000\">\n",
              "    <div class=\"colab-df-container\">\n",
              "      <div>\n",
              "<style scoped>\n",
              "    .dataframe tbody tr th:only-of-type {\n",
              "        vertical-align: middle;\n",
              "    }\n",
              "\n",
              "    .dataframe tbody tr th {\n",
              "        vertical-align: top;\n",
              "    }\n",
              "\n",
              "    .dataframe thead th {\n",
              "        text-align: right;\n",
              "    }\n",
              "</style>\n",
              "<table border=\"1\" class=\"dataframe\">\n",
              "  <thead>\n",
              "    <tr style=\"text-align: right;\">\n",
              "      <th></th>\n",
              "      <th>loss</th>\n",
              "      <th>accuracy</th>\n",
              "      <th>val_loss</th>\n",
              "      <th>val_accuracy</th>\n",
              "      <th>epoch</th>\n",
              "    </tr>\n",
              "  </thead>\n",
              "  <tbody>\n",
              "    <tr>\n",
              "      <th>45</th>\n",
              "      <td>0.019161</td>\n",
              "      <td>0.991404</td>\n",
              "      <td>0.048695</td>\n",
              "      <td>0.982659</td>\n",
              "      <td>45</td>\n",
              "    </tr>\n",
              "    <tr>\n",
              "      <th>46</th>\n",
              "      <td>0.009168</td>\n",
              "      <td>1.000000</td>\n",
              "      <td>0.063126</td>\n",
              "      <td>0.959538</td>\n",
              "      <td>46</td>\n",
              "    </tr>\n",
              "    <tr>\n",
              "      <th>47</th>\n",
              "      <td>0.009142</td>\n",
              "      <td>0.997135</td>\n",
              "      <td>0.041297</td>\n",
              "      <td>0.976879</td>\n",
              "      <td>47</td>\n",
              "    </tr>\n",
              "    <tr>\n",
              "      <th>48</th>\n",
              "      <td>0.008867</td>\n",
              "      <td>1.000000</td>\n",
              "      <td>0.045968</td>\n",
              "      <td>0.982659</td>\n",
              "      <td>48</td>\n",
              "    </tr>\n",
              "    <tr>\n",
              "      <th>49</th>\n",
              "      <td>0.021428</td>\n",
              "      <td>0.991404</td>\n",
              "      <td>0.065235</td>\n",
              "      <td>0.976879</td>\n",
              "      <td>49</td>\n",
              "    </tr>\n",
              "  </tbody>\n",
              "</table>\n",
              "</div>\n",
              "      <button class=\"colab-df-convert\" onclick=\"convertToInteractive('df-c388af62-d1ba-45bc-84db-32b7172f1000')\"\n",
              "              title=\"Convert this dataframe to an interactive table.\"\n",
              "              style=\"display:none;\">\n",
              "        \n",
              "  <svg xmlns=\"http://www.w3.org/2000/svg\" height=\"24px\"viewBox=\"0 0 24 24\"\n",
              "       width=\"24px\">\n",
              "    <path d=\"M0 0h24v24H0V0z\" fill=\"none\"/>\n",
              "    <path d=\"M18.56 5.44l.94 2.06.94-2.06 2.06-.94-2.06-.94-.94-2.06-.94 2.06-2.06.94zm-11 1L8.5 8.5l.94-2.06 2.06-.94-2.06-.94L8.5 2.5l-.94 2.06-2.06.94zm10 10l.94 2.06.94-2.06 2.06-.94-2.06-.94-.94-2.06-.94 2.06-2.06.94z\"/><path d=\"M17.41 7.96l-1.37-1.37c-.4-.4-.92-.59-1.43-.59-.52 0-1.04.2-1.43.59L10.3 9.45l-7.72 7.72c-.78.78-.78 2.05 0 2.83L4 21.41c.39.39.9.59 1.41.59.51 0 1.02-.2 1.41-.59l7.78-7.78 2.81-2.81c.8-.78.8-2.07 0-2.86zM5.41 20L4 18.59l7.72-7.72 1.47 1.35L5.41 20z\"/>\n",
              "  </svg>\n",
              "      </button>\n",
              "      \n",
              "  <style>\n",
              "    .colab-df-container {\n",
              "      display:flex;\n",
              "      flex-wrap:wrap;\n",
              "      gap: 12px;\n",
              "    }\n",
              "\n",
              "    .colab-df-convert {\n",
              "      background-color: #E8F0FE;\n",
              "      border: none;\n",
              "      border-radius: 50%;\n",
              "      cursor: pointer;\n",
              "      display: none;\n",
              "      fill: #1967D2;\n",
              "      height: 32px;\n",
              "      padding: 0 0 0 0;\n",
              "      width: 32px;\n",
              "    }\n",
              "\n",
              "    .colab-df-convert:hover {\n",
              "      background-color: #E2EBFA;\n",
              "      box-shadow: 0px 1px 2px rgba(60, 64, 67, 0.3), 0px 1px 3px 1px rgba(60, 64, 67, 0.15);\n",
              "      fill: #174EA6;\n",
              "    }\n",
              "\n",
              "    [theme=dark] .colab-df-convert {\n",
              "      background-color: #3B4455;\n",
              "      fill: #D2E3FC;\n",
              "    }\n",
              "\n",
              "    [theme=dark] .colab-df-convert:hover {\n",
              "      background-color: #434B5C;\n",
              "      box-shadow: 0px 1px 3px 1px rgba(0, 0, 0, 0.15);\n",
              "      filter: drop-shadow(0px 1px 2px rgba(0, 0, 0, 0.3));\n",
              "      fill: #FFFFFF;\n",
              "    }\n",
              "  </style>\n",
              "\n",
              "      <script>\n",
              "        const buttonEl =\n",
              "          document.querySelector('#df-c388af62-d1ba-45bc-84db-32b7172f1000 button.colab-df-convert');\n",
              "        buttonEl.style.display =\n",
              "          google.colab.kernel.accessAllowed ? 'block' : 'none';\n",
              "\n",
              "        async function convertToInteractive(key) {\n",
              "          const element = document.querySelector('#df-c388af62-d1ba-45bc-84db-32b7172f1000');\n",
              "          const dataTable =\n",
              "            await google.colab.kernel.invokeFunction('convertToInteractive',\n",
              "                                                     [key], {});\n",
              "          if (!dataTable) return;\n",
              "\n",
              "          const docLinkHtml = 'Like what you see? Visit the ' +\n",
              "            '<a target=\"_blank\" href=https://colab.research.google.com/notebooks/data_table.ipynb>data table notebook</a>'\n",
              "            + ' to learn more about interactive tables.';\n",
              "          element.innerHTML = '';\n",
              "          dataTable['output_type'] = 'display_data';\n",
              "          await google.colab.output.renderOutput(dataTable, element);\n",
              "          const docLink = document.createElement('div');\n",
              "          docLink.innerHTML = docLinkHtml;\n",
              "          element.appendChild(docLink);\n",
              "        }\n",
              "      </script>\n",
              "    </div>\n",
              "  </div>\n",
              "  "
            ]
          },
          "metadata": {},
          "execution_count": 18
        }
      ]
    },
    {
      "cell_type": "markdown",
      "source": [
        "## Visualize Training History\n"
      ],
      "metadata": {
        "id": "FRL8BlZ46elE"
      }
    },
    {
      "cell_type": "code",
      "source": [
        "# summarize history for accuracy\n",
        "plt.plot(hist.history['accuracy'])\n",
        "plt.plot(hist.history['val_accuracy'])\n",
        "plt.title('model accuracy')\n",
        "plt.ylabel('accuracy')\n",
        "plt.xlabel('epoch')\n",
        "plt.legend(['train', 'test'], loc='upper left')\n",
        "plt.show()"
      ],
      "metadata": {
        "colab": {
          "base_uri": "https://localhost:8080/",
          "height": 295
        },
        "id": "n4oXt9Xn6VsU",
        "outputId": "4c3c30b4-d2f4-4bbe-c672-61606333bde6"
      },
      "execution_count": 19,
      "outputs": [
        {
          "output_type": "display_data",
          "data": {
            "text/plain": [
              "<Figure size 432x288 with 1 Axes>"
            ],
            "image/png": "[encoded data removed]"
          },
          "metadata": {
            "needs_background": "light"
          }
        }
      ]
    },
    {
      "cell_type": "code",
      "source": [
        "# summarize history for loss\n",
        "plt.plot(hist.history['loss'])\n",
        "plt.plot(hist.history['val_loss'])\n",
        "plt.title('model loss')\n",
        "plt.ylabel('loss')\n",
        "plt.xlabel('epoch')\n",
        "plt.legend(['train', 'test'], loc='upper left')"
      ],
      "metadata": {
        "colab": {
          "base_uri": "https://localhost:8080/",
          "height": 312
        },
        "id": "WOXDsu0k6nGU",
        "outputId": "002d50af-2f22-4d7d-9300-209180760a3c"
      },
      "execution_count": 20,
      "outputs": [
        {
          "output_type": "execute_result",
          "data": {
            "text/plain": [
              "<matplotlib.legend.Legend at 0x7f0b940d7340>"
            ]
          },
          "metadata": {},
          "execution_count": 20
        },
        {
          "output_type": "display_data",
          "data": {
            "text/plain": [
              "<Figure size 432x288 with 1 Axes>"
            ],
            "image/png": "[encoded data removed]"
          },
          "metadata": {
            "needs_background": "light"
          }
        }
      ]
    },
    {
      "cell_type": "markdown",
      "source": [
        "## Tuning of Hyperparameters :- Batch Size and Epochs\n"
      ],
      "metadata": {
        "id": "l5wbOZSI6syI"
      }
    },
    {
      "cell_type": "code",
      "source": [
        "# Importing the necessary packages\n",
        "from sklearn.model_selection import GridSearchCV, KFold\n",
        "from keras.models import Sequential\n",
        "from keras.layers import Dense\n",
        "from keras.wrappers.scikit_learn import KerasClassifier\n",
        "from keras.optimizers import Adam"
      ],
      "metadata": {
        "id": "QRegVejf6qeJ"
      },
      "execution_count": 21,
      "outputs": []
    },
    {
      "cell_type": "code",
      "source": [
        "# create model\n",
        "def create_model():\n",
        "    model = Sequential()\n",
        "    model.add(Dense(12, input_dim=8, kernel_initializer='uniform', activation='relu'))\n",
        "    model.add(Dense(8, kernel_initializer='uniform', activation='relu'))\n",
        "    model.add(Dense(1, kernel_initializer='uniform', activation='sigmoid'))\n",
        "    \n",
        "    adam=Adam(lr=0.01)\n",
        "    model.compile(loss='binary_crossentropy', optimizer=adam, metrics=['accuracy'])\n",
        "    return model"
      ],
      "metadata": {
        "id": "N-HkW8f061dh"
      },
      "execution_count": 22,
      "outputs": []
    },
    {
      "cell_type": "code",
      "source": [
        "from sklearn.preprocessing import StandardScaler\n",
        "a = StandardScaler()\n",
        "a.fit(X)\n",
        "X_standardized = a.transform(X)"
      ],
      "metadata": {
        "id": "syhfgFwf684N"
      },
      "execution_count": 23,
      "outputs": []
    },
    {
      "cell_type": "markdown",
      "source": [
        "## Tuning of Hyperparameters:- Learning rate and Drop out rate\n"
      ],
      "metadata": {
        "id": "tTe5Pw5l7DUr"
      }
    },
    {
      "cell_type": "code",
      "source": [
        "from keras.layers import Dropout\n",
        "\n",
        "# Defining the model\n",
        "\n",
        "def create_model2(learning_rate,dropout_rate):\n",
        "    model = Sequential()\n",
        "    model.add(Dense(14,input_dim = 11,kernel_initializer = 'uniform',activation = 'relu'))\n",
        "    model.add(Dropout(dropout_rate))\n",
        "    model.add(Dense(12,input_dim = 14,kernel_initializer = 'uniform',activation = 'relu'))\n",
        "    model.add(Dropout(dropout_rate))\n",
        "    model.add(Dense(1,kernel_initializer='uniform',activation = 'sigmoid'))\n",
        "    \n",
        "    adam = Adam(lr = learning_rate)\n",
        "    model.compile(loss = 'binary_crossentropy',optimizer = adam,metrics = ['accuracy'])\n",
        "    return model\n",
        "\n",
        "# Create the model\n",
        "\n",
        "model2 = KerasClassifier(build_fn = create_model2,verbose = 0,batch_size = 20,epochs = 50)\n",
        "\n",
        "# Define the grid search parameters\n",
        "\n",
        "learning_rate = [0.001,0.01,0.1]\n",
        "dropout_rate = [0.0,0.1,0.2]\n",
        "\n",
        "# Make a dictionary of the grid search parameters\n",
        "\n",
        "param_grids2 = dict(learning_rate = learning_rate,dropout_rate = dropout_rate)\n",
        "\n",
        "# Build and fit the GridSearchCV\n",
        "\n",
        "grid2 = GridSearchCV(estimator = model2,param_grid = param_grids2,cv = KFold(),verbose = 10)\n",
        "grid_result2 = grid2.fit(X_standardized,Y)"
      ],
      "metadata": {
        "colab": {
          "base_uri": "https://localhost:8080/"
        },
        "id": "l8VSUcHb7BBi",
        "outputId": "f6decafe-38d0-4b80-a80f-5d0802af3f55"
      },
      "execution_count": 24,
      "outputs": [
        {
          "output_type": "stream",
          "name": "stdout",
          "text": [
            "Fitting 5 folds for each of 9 candidates, totalling 45 fits\n",
            "[CV 1/5; 1/9] START dropout_rate=0.0, learning_rate=0.001.......................\n",
            "[CV 1/5; 1/9] END dropout_rate=0.0, learning_rate=0.001;, score=0.993 total time=   7.2s\n",
            "[CV 2/5; 1/9] START dropout_rate=0.0, learning_rate=0.001.......................\n",
            "[CV 2/5; 1/9] END dropout_rate=0.0, learning_rate=0.001;, score=0.980 total time=   3.9s\n",
            "[CV 3/5; 1/9] START dropout_rate=0.0, learning_rate=0.001.......................\n",
            "[CV 3/5; 1/9] END dropout_rate=0.0, learning_rate=0.001;, score=0.973 total time=   6.1s\n",
            "[CV 4/5; 1/9] START dropout_rate=0.0, learning_rate=0.001.......................\n",
            "[CV 4/5; 1/9] END dropout_rate=0.0, learning_rate=0.001;, score=0.980 total time=   6.2s\n",
            "[CV 5/5; 1/9] START dropout_rate=0.0, learning_rate=0.001.......................\n",
            "[CV 5/5; 1/9] END dropout_rate=0.0, learning_rate=0.001;, score=0.993 total time=   6.1s\n",
            "[CV 1/5; 2/9] START dropout_rate=0.0, learning_rate=0.01........................\n",
            "[CV 1/5; 2/9] END dropout_rate=0.0, learning_rate=0.01;, score=0.973 total time=   6.2s\n",
            "[CV 2/5; 2/9] START dropout_rate=0.0, learning_rate=0.01........................\n",
            "[CV 2/5; 2/9] END dropout_rate=0.0, learning_rate=0.01;, score=0.966 total time=   6.1s\n",
            "[CV 3/5; 2/9] START dropout_rate=0.0, learning_rate=0.01........................\n",
            "[CV 3/5; 2/9] END dropout_rate=0.0, learning_rate=0.01;, score=0.960 total time=   6.2s\n",
            "[CV 4/5; 2/9] START dropout_rate=0.0, learning_rate=0.01........................\n",
            "[CV 4/5; 2/9] END dropout_rate=0.0, learning_rate=0.01;, score=0.953 total time=   6.3s\n",
            "[CV 5/5; 2/9] START dropout_rate=0.0, learning_rate=0.01........................\n",
            "[CV 5/5; 2/9] END dropout_rate=0.0, learning_rate=0.01;, score=0.933 total time=   6.1s\n",
            "[CV 1/5; 3/9] START dropout_rate=0.0, learning_rate=0.1.........................\n",
            "[CV 1/5; 3/9] END dropout_rate=0.0, learning_rate=0.1;, score=0.993 total time=   6.3s\n",
            "[CV 2/5; 3/9] START dropout_rate=0.0, learning_rate=0.1.........................\n",
            "[CV 2/5; 3/9] END dropout_rate=0.0, learning_rate=0.1;, score=0.940 total time=   6.2s\n",
            "[CV 3/5; 3/9] START dropout_rate=0.0, learning_rate=0.1.........................\n",
            "[CV 3/5; 3/9] END dropout_rate=0.0, learning_rate=0.1;, score=0.980 total time=   5.5s\n",
            "[CV 4/5; 3/9] START dropout_rate=0.0, learning_rate=0.1.........................\n",
            "[CV 4/5; 3/9] END dropout_rate=0.0, learning_rate=0.1;, score=0.262 total time=   3.9s\n",
            "[CV 5/5; 3/9] START dropout_rate=0.0, learning_rate=0.1.........................\n",
            "[CV 5/5; 3/9] END dropout_rate=0.0, learning_rate=0.1;, score=0.933 total time=   6.3s\n",
            "[CV 1/5; 4/9] START dropout_rate=0.1, learning_rate=0.001.......................\n",
            "[CV 1/5; 4/9] END dropout_rate=0.1, learning_rate=0.001;, score=1.000 total time=   4.9s\n",
            "[CV 2/5; 4/9] START dropout_rate=0.1, learning_rate=0.001.......................\n",
            "[CV 2/5; 4/9] END dropout_rate=0.1, learning_rate=0.001;, score=0.993 total time=   6.2s\n",
            "[CV 3/5; 4/9] START dropout_rate=0.1, learning_rate=0.001.......................\n",
            "[CV 3/5; 4/9] END dropout_rate=0.1, learning_rate=0.001;, score=0.966 total time=   6.2s\n",
            "[CV 4/5; 4/9] START dropout_rate=0.1, learning_rate=0.001.......................\n",
            "[CV 4/5; 4/9] END dropout_rate=0.1, learning_rate=0.001;, score=0.993 total time=   4.2s\n",
            "[CV 5/5; 4/9] START dropout_rate=0.1, learning_rate=0.001.......................\n",
            "[CV 5/5; 4/9] END dropout_rate=0.1, learning_rate=0.001;, score=0.987 total time=   6.2s\n",
            "[CV 1/5; 5/9] START dropout_rate=0.1, learning_rate=0.01........................\n",
            "[CV 1/5; 5/9] END dropout_rate=0.1, learning_rate=0.01;, score=1.000 total time=   6.2s\n",
            "[CV 2/5; 5/9] START dropout_rate=0.1, learning_rate=0.01........................\n",
            "[CV 2/5; 5/9] END dropout_rate=0.1, learning_rate=0.01;, score=0.966 total time=   6.2s\n",
            "[CV 3/5; 5/9] START dropout_rate=0.1, learning_rate=0.01........................\n",
            "[CV 3/5; 5/9] END dropout_rate=0.1, learning_rate=0.01;, score=0.966 total time=   4.2s\n",
            "[CV 4/5; 5/9] START dropout_rate=0.1, learning_rate=0.01........................\n",
            "[CV 4/5; 5/9] END dropout_rate=0.1, learning_rate=0.01;, score=0.919 total time=   4.2s\n",
            "[CV 5/5; 5/9] START dropout_rate=0.1, learning_rate=0.01........................\n",
            "[CV 5/5; 5/9] END dropout_rate=0.1, learning_rate=0.01;, score=0.933 total time=   5.1s\n",
            "[CV 1/5; 6/9] START dropout_rate=0.1, learning_rate=0.1.........................\n",
            "[CV 1/5; 6/9] END dropout_rate=0.1, learning_rate=0.1;, score=0.987 total time=   4.1s\n",
            "[CV 2/5; 6/9] START dropout_rate=0.1, learning_rate=0.1.........................\n",
            "[CV 2/5; 6/9] END dropout_rate=0.1, learning_rate=0.1;, score=0.846 total time=   6.9s\n",
            "[CV 3/5; 6/9] START dropout_rate=0.1, learning_rate=0.1.........................\n",
            "[CV 3/5; 6/9] END dropout_rate=0.1, learning_rate=0.1;, score=0.960 total time=   6.2s\n",
            "[CV 4/5; 6/9] START dropout_rate=0.1, learning_rate=0.1.........................\n",
            "[CV 4/5; 6/9] END dropout_rate=0.1, learning_rate=0.1;, score=0.926 total time=   5.4s\n",
            "[CV 5/5; 6/9] START dropout_rate=0.1, learning_rate=0.1.........................\n",
            "[CV 5/5; 6/9] END dropout_rate=0.1, learning_rate=0.1;, score=0.000 total time=   4.3s\n",
            "[CV 1/5; 7/9] START dropout_rate=0.2, learning_rate=0.001.......................\n",
            "[CV 1/5; 7/9] END dropout_rate=0.2, learning_rate=0.001;, score=1.000 total time=   6.4s\n",
            "[CV 2/5; 7/9] START dropout_rate=0.2, learning_rate=0.001.......................\n",
            "[CV 2/5; 7/9] END dropout_rate=0.2, learning_rate=0.001;, score=0.987 total time=   6.7s\n",
            "[CV 3/5; 7/9] START dropout_rate=0.2, learning_rate=0.001.......................\n",
            "[CV 3/5; 7/9] END dropout_rate=0.2, learning_rate=0.001;, score=0.973 total time=   6.5s\n",
            "[CV 4/5; 7/9] START dropout_rate=0.2, learning_rate=0.001.......................\n",
            "[CV 4/5; 7/9] END dropout_rate=0.2, learning_rate=0.001;, score=0.993 total time=   5.3s\n",
            "[CV 5/5; 7/9] START dropout_rate=0.2, learning_rate=0.001.......................\n",
            "[CV 5/5; 7/9] END dropout_rate=0.2, learning_rate=0.001;, score=0.973 total time=   6.4s\n",
            "[CV 1/5; 8/9] START dropout_rate=0.2, learning_rate=0.01........................\n",
            "[CV 1/5; 8/9] END dropout_rate=0.2, learning_rate=0.01;, score=0.980 total time=   6.6s\n",
            "[CV 2/5; 8/9] START dropout_rate=0.2, learning_rate=0.01........................\n",
            "[CV 2/5; 8/9] END dropout_rate=0.2, learning_rate=0.01;, score=0.960 total time=   4.7s\n",
            "[CV 3/5; 8/9] START dropout_rate=0.2, learning_rate=0.01........................\n",
            "[CV 3/5; 8/9] END dropout_rate=0.2, learning_rate=0.01;, score=0.980 total time=   5.4s\n",
            "[CV 4/5; 8/9] START dropout_rate=0.2, learning_rate=0.01........................\n",
            "[CV 4/5; 8/9] END dropout_rate=0.2, learning_rate=0.01;, score=0.980 total time=   6.3s\n",
            "[CV 5/5; 8/9] START dropout_rate=0.2, learning_rate=0.01........................\n",
            "[CV 5/5; 8/9] END dropout_rate=0.2, learning_rate=0.01;, score=1.000 total time=   6.2s\n",
            "[CV 1/5; 9/9] START dropout_rate=0.2, learning_rate=0.1.........................\n",
            "[CV 1/5; 9/9] END dropout_rate=0.2, learning_rate=0.1;, score=0.807 total time=   4.8s\n",
            "[CV 2/5; 9/9] START dropout_rate=0.2, learning_rate=0.1.........................\n",
            "[CV 2/5; 9/9] END dropout_rate=0.2, learning_rate=0.1;, score=0.933 total time=   5.7s\n",
            "[CV 3/5; 9/9] START dropout_rate=0.2, learning_rate=0.1.........................\n",
            "[CV 3/5; 9/9] END dropout_rate=0.2, learning_rate=0.1;, score=0.906 total time=   6.3s\n",
            "[CV 4/5; 9/9] START dropout_rate=0.2, learning_rate=0.1.........................\n",
            "[CV 4/5; 9/9] END dropout_rate=0.2, learning_rate=0.1;, score=0.987 total time=   5.3s\n",
            "[CV 5/5; 9/9] START dropout_rate=0.2, learning_rate=0.1.........................\n",
            "[CV 5/5; 9/9] END dropout_rate=0.2, learning_rate=0.1;, score=0.718 total time=   4.3s\n"
          ]
        }
      ]
    },
    {
      "cell_type": "code",
      "source": [
        "# Summarize the results\n",
        "print('Best : {}, using {}'.format(grid_result2.best_score_,grid_result2.best_params_))\n",
        "means2 = grid_result2.cv_results_['mean_test_score']\n",
        "stds2 = grid_result2.cv_results_['std_test_score']\n",
        "params2 = grid_result2.cv_results_['params']\n",
        "for mean, stdev, param in zip(means2, stds2, params2):\n",
        "  print('{},{} with: {}'.format(mean, stdev, param))\n",
        "#Best score for Dropout rate = 0.2 and learning rate is 0.001"
      ],
      "metadata": {
        "colab": {
          "base_uri": "https://localhost:8080/"
        },
        "id": "FOG1THR87M6U",
        "outputId": "f5f09bbe-e669-4ab5-9194-39e267859eb1"
      },
      "execution_count": 25,
      "outputs": [
        {
          "output_type": "stream",
          "name": "stdout",
          "text": [
            "Best : 0.9879194498062134, using {'dropout_rate': 0.1, 'learning_rate': 0.001}\n",
            "0.983901572227478,0.008064138091842667 with: {'dropout_rate': 0.0, 'learning_rate': 0.001}\n",
            "0.9570827722549439,0.01386148915812079 with: {'dropout_rate': 0.0, 'learning_rate': 0.01}\n",
            "0.8214854598045349,0.2808152045066613 with: {'dropout_rate': 0.0, 'learning_rate': 0.1}\n",
            "0.9879194498062134,0.011546747240803144 with: {'dropout_rate': 0.1, 'learning_rate': 0.001}\n",
            "0.9570469737052918,0.02834726384245614 with: {'dropout_rate': 0.1, 'learning_rate': 0.01}\n",
            "0.7436420559883118,0.3748280445467008 with: {'dropout_rate': 0.1, 'learning_rate': 0.1}\n",
            "0.9852348923683166,0.01073825061321879 with: {'dropout_rate': 0.2, 'learning_rate': 0.001}\n",
            "0.97989262342453,0.01273412493543458 with: {'dropout_rate': 0.2, 'learning_rate': 0.01}\n",
            "0.8700581550598144,0.09583542951353906 with: {'dropout_rate': 0.2, 'learning_rate': 0.1}\n"
          ]
        }
      ]
    },
    {
      "cell_type": "markdown",
      "source": [
        "## Tuning of Hyperparameters:- Activation Function and Kernel Initializer\n"
      ],
      "metadata": {
        "id": "YJ8igDto8jP1"
      }
    },
    {
      "cell_type": "code",
      "source": [
        "# Defining the model\n",
        "\n",
        "def create_model3(activation_function,init):\n",
        "    model = Sequential()\n",
        "    model.add(Dense(14,input_dim = 11,kernel_initializer = init,activation = activation_function))\n",
        "    model.add(Dropout(0.2))\n",
        "    model.add(Dense(12,input_dim = 14,kernel_initializer = init,activation = activation_function))\n",
        "    model.add(Dropout(0.2))\n",
        "    model.add(Dense(1,activation = 'sigmoid'))\n",
        "    \n",
        "    adam = Adam(lr = 0.001)\n",
        "    model.compile(loss = 'binary_crossentropy',optimizer = adam,metrics = ['accuracy'])\n",
        "    return model\n",
        "\n",
        "# Create the model\n",
        "\n",
        "model3 = KerasClassifier(build_fn = create_model3,verbose = 0,batch_size = 20,epochs = 50)\n",
        "\n",
        "# Define the grid search parameters\n",
        "activation_function = ['softmax','relu','tanh','linear']\n",
        "init = ['uniform','normal','zero']\n",
        "\n",
        "# Make a dictionary of the grid search parameters\n",
        "param_grids3 = dict(activation_function = activation_function,init = init)\n",
        "\n",
        "# Build and fit the GridSearchCV\n",
        "\n",
        "grid3 = GridSearchCV(estimator = model3,param_grid = param_grids3,cv = KFold(),verbose = 10)\n",
        "grid_result3 = grid3.fit(X_standardized,Y)"
      ],
      "metadata": {
        "colab": {
          "base_uri": "https://localhost:8080/"
        },
        "id": "TBUwMGdG8hPa",
        "outputId": "11e242cd-87a4-4a4a-9bee-1e69fc703929"
      },
      "execution_count": 26,
      "outputs": [
        {
          "output_type": "stream",
          "name": "stdout",
          "text": [
            "Fitting 5 folds for each of 12 candidates, totalling 60 fits\n",
            "[CV 1/5; 1/12] START activation_function=softmax, init=uniform..................\n",
            "[CV 1/5; 1/12] END activation_function=softmax, init=uniform;, score=0.000 total time=   7.1s\n",
            "[CV 2/5; 1/12] START activation_function=softmax, init=uniform..................\n",
            "[CV 2/5; 1/12] END activation_function=softmax, init=uniform;, score=0.738 total time=   4.5s\n",
            "[CV 3/5; 1/12] START activation_function=softmax, init=uniform..................\n",
            "[CV 3/5; 1/12] END activation_function=softmax, init=uniform;, score=0.430 total time=   4.6s\n",
            "[CV 4/5; 1/12] START activation_function=softmax, init=uniform..................\n",
            "[CV 4/5; 1/12] END activation_function=softmax, init=uniform;, score=0.611 total time=   6.2s\n",
            "[CV 5/5; 1/12] START activation_function=softmax, init=uniform..................\n",
            "[CV 5/5; 1/12] END activation_function=softmax, init=uniform;, score=0.154 total time=   4.3s\n",
            "[CV 1/5; 2/12] START activation_function=softmax, init=normal...................\n",
            "[CV 1/5; 2/12] END activation_function=softmax, init=normal;, score=0.073 total time=   6.2s\n",
            "[CV 2/5; 2/12] START activation_function=softmax, init=normal...................\n",
            "[CV 2/5; 2/12] END activation_function=softmax, init=normal;, score=0.745 total time=   6.2s\n",
            "[CV 3/5; 2/12] START activation_function=softmax, init=normal...................\n",
            "[CV 3/5; 2/12] END activation_function=softmax, init=normal;, score=0.423 total time=   6.2s\n",
            "[CV 4/5; 2/12] START activation_function=softmax, init=normal...................\n",
            "[CV 4/5; 2/12] END activation_function=softmax, init=normal;, score=0.617 total time=   4.4s\n",
            "[CV 5/5; 2/12] START activation_function=softmax, init=normal...................\n",
            "[CV 5/5; 2/12] END activation_function=softmax, init=normal;, score=0.087 total time=   5.9s\n",
            "[CV 1/5; 3/12] START activation_function=softmax, init=zero.....................\n",
            "[CV 1/5; 3/12] END activation_function=softmax, init=zero;, score=0.000 total time=   4.9s\n",
            "[CV 2/5; 3/12] START activation_function=softmax, init=zero.....................\n",
            "[CV 2/5; 3/12] END activation_function=softmax, init=zero;, score=0.745 total time=   6.5s\n",
            "[CV 3/5; 3/12] START activation_function=softmax, init=zero.....................\n",
            "[CV 3/5; 3/12] END activation_function=softmax, init=zero;, score=0.383 total time=   5.4s\n",
            "[CV 4/5; 3/12] START activation_function=softmax, init=zero.....................\n",
            "[CV 4/5; 3/12] END activation_function=softmax, init=zero;, score=0.604 total time=   4.4s\n",
            "[CV 5/5; 3/12] START activation_function=softmax, init=zero.....................\n",
            "[CV 5/5; 3/12] END activation_function=softmax, init=zero;, score=0.000 total time=   6.2s\n",
            "[CV 1/5; 4/12] START activation_function=relu, init=uniform.....................\n",
            "[CV 1/5; 4/12] END activation_function=relu, init=uniform;, score=0.993 total time=   6.2s\n",
            "[CV 2/5; 4/12] START activation_function=relu, init=uniform.....................\n",
            "[CV 2/5; 4/12] END activation_function=relu, init=uniform;, score=0.993 total time=   6.2s\n",
            "[CV 3/5; 4/12] START activation_function=relu, init=uniform.....................\n",
            "[CV 3/5; 4/12] END activation_function=relu, init=uniform;, score=0.966 total time=   4.3s\n",
            "[CV 4/5; 4/12] START activation_function=relu, init=uniform.....................\n",
            "[CV 4/5; 4/12] END activation_function=relu, init=uniform;, score=0.973 total time=   4.2s\n",
            "[CV 5/5; 4/12] START activation_function=relu, init=uniform.....................\n",
            "[CV 5/5; 4/12] END activation_function=relu, init=uniform;, score=0.993 total time=   6.5s\n",
            "[CV 1/5; 5/12] START activation_function=relu, init=normal......................\n",
            "[CV 1/5; 5/12] END activation_function=relu, init=normal;, score=1.000 total time=   6.2s\n",
            "[CV 2/5; 5/12] START activation_function=relu, init=normal......................\n",
            "[CV 2/5; 5/12] END activation_function=relu, init=normal;, score=0.987 total time=   6.5s\n",
            "[CV 3/5; 5/12] START activation_function=relu, init=normal......................\n",
            "[CV 3/5; 5/12] END activation_function=relu, init=normal;, score=0.973 total time=   6.3s\n",
            "[CV 4/5; 5/12] START activation_function=relu, init=normal......................\n",
            "[CV 4/5; 5/12] END activation_function=relu, init=normal;, score=0.980 total time=   6.9s\n",
            "[CV 5/5; 5/12] START activation_function=relu, init=normal......................\n",
            "[CV 5/5; 5/12] END activation_function=relu, init=normal;, score=0.980 total time=   7.8s\n",
            "[CV 1/5; 6/12] START activation_function=relu, init=zero........................\n",
            "[CV 1/5; 6/12] END activation_function=relu, init=zero;, score=0.000 total time=   6.3s\n",
            "[CV 2/5; 6/12] START activation_function=relu, init=zero........................\n",
            "[CV 2/5; 6/12] END activation_function=relu, init=zero;, score=0.497 total time=   4.9s\n",
            "[CV 3/5; 6/12] START activation_function=relu, init=zero........................\n",
            "[CV 3/5; 6/12] END activation_function=relu, init=zero;, score=0.268 total time=   4.8s\n",
            "[CV 4/5; 6/12] START activation_function=relu, init=zero........................\n",
            "[CV 4/5; 6/12] END activation_function=relu, init=zero;, score=0.262 total time=   6.3s\n",
            "[CV 5/5; 6/12] START activation_function=relu, init=zero........................\n",
            "[CV 5/5; 6/12] END activation_function=relu, init=zero;, score=0.000 total time=   6.6s\n",
            "[CV 1/5; 7/12] START activation_function=tanh, init=uniform.....................\n",
            "[CV 1/5; 7/12] END activation_function=tanh, init=uniform;, score=1.000 total time=   6.4s\n",
            "[CV 2/5; 7/12] START activation_function=tanh, init=uniform.....................\n",
            "[CV 2/5; 7/12] END activation_function=tanh, init=uniform;, score=1.000 total time=   6.6s\n",
            "[CV 3/5; 7/12] START activation_function=tanh, init=uniform.....................\n",
            "[CV 3/5; 7/12] END activation_function=tanh, init=uniform;, score=0.966 total time=   4.2s\n",
            "[CV 4/5; 7/12] START activation_function=tanh, init=uniform.....................\n",
            "[CV 4/5; 7/12] END activation_function=tanh, init=uniform;, score=0.980 total time=   6.2s\n",
            "[CV 5/5; 7/12] START activation_function=tanh, init=uniform.....................\n",
            "[CV 5/5; 7/12] END activation_function=tanh, init=uniform;, score=0.987 total time=   4.1s\n",
            "[CV 1/5; 8/12] START activation_function=tanh, init=normal......................\n",
            "[CV 1/5; 8/12] END activation_function=tanh, init=normal;, score=1.000 total time=   4.6s\n",
            "[CV 2/5; 8/12] START activation_function=tanh, init=normal......................\n",
            "[CV 2/5; 8/12] END activation_function=tanh, init=normal;, score=1.000 total time=   6.6s\n",
            "[CV 3/5; 8/12] START activation_function=tanh, init=normal......................\n",
            "[CV 3/5; 8/12] END activation_function=tanh, init=normal;, score=0.973 total time=   6.3s\n",
            "[CV 4/5; 8/12] START activation_function=tanh, init=normal......................\n",
            "[CV 4/5; 8/12] END activation_function=tanh, init=normal;, score=0.980 total time=   6.2s\n",
            "[CV 5/5; 8/12] START activation_function=tanh, init=normal......................\n",
            "[CV 5/5; 8/12] END activation_function=tanh, init=normal;, score=0.993 total time=   7.1s\n",
            "[CV 1/5; 9/12] START activation_function=tanh, init=zero........................\n",
            "[CV 1/5; 9/12] END activation_function=tanh, init=zero;, score=0.000 total time=   4.5s\n",
            "[CV 2/5; 9/12] START activation_function=tanh, init=zero........................\n",
            "[CV 2/5; 9/12] END activation_function=tanh, init=zero;, score=0.497 total time=   4.4s\n",
            "[CV 3/5; 9/12] START activation_function=tanh, init=zero........................\n",
            "[CV 3/5; 9/12] END activation_function=tanh, init=zero;, score=0.268 total time=   5.2s\n",
            "[CV 4/5; 9/12] START activation_function=tanh, init=zero........................\n",
            "[CV 4/5; 9/12] END activation_function=tanh, init=zero;, score=0.262 total time=   6.2s\n",
            "[CV 5/5; 9/12] START activation_function=tanh, init=zero........................\n",
            "[CV 5/5; 9/12] END activation_function=tanh, init=zero;, score=0.000 total time=   6.2s\n",
            "[CV 1/5; 10/12] START activation_function=linear, init=uniform..................\n",
            "[CV 1/5; 10/12] END activation_function=linear, init=uniform;, score=1.000 total time=   6.2s\n",
            "[CV 2/5; 10/12] START activation_function=linear, init=uniform..................\n",
            "[CV 2/5; 10/12] END activation_function=linear, init=uniform;, score=1.000 total time=   6.2s\n",
            "[CV 3/5; 10/12] START activation_function=linear, init=uniform..................\n",
            "[CV 3/5; 10/12] END activation_function=linear, init=uniform;, score=0.966 total time=   6.2s\n",
            "[CV 4/5; 10/12] START activation_function=linear, init=uniform..................\n",
            "[CV 4/5; 10/12] END activation_function=linear, init=uniform;, score=0.987 total time=   5.4s\n",
            "[CV 5/5; 10/12] START activation_function=linear, init=uniform..................\n",
            "[CV 5/5; 10/12] END activation_function=linear, init=uniform;, score=0.987 total time=   6.2s\n",
            "[CV 1/5; 11/12] START activation_function=linear, init=normal...................\n",
            "[CV 1/5; 11/12] END activation_function=linear, init=normal;, score=1.000 total time=   6.2s\n",
            "[CV 2/5; 11/12] START activation_function=linear, init=normal...................\n",
            "[CV 2/5; 11/12] END activation_function=linear, init=normal;, score=1.000 total time=   4.1s\n",
            "[CV 3/5; 11/12] START activation_function=linear, init=normal...................\n",
            "[CV 3/5; 11/12] END activation_function=linear, init=normal;, score=0.973 total time=   6.3s\n",
            "[CV 4/5; 11/12] START activation_function=linear, init=normal...................\n",
            "[CV 4/5; 11/12] END activation_function=linear, init=normal;, score=0.980 total time=   6.3s\n",
            "[CV 5/5; 11/12] START activation_function=linear, init=normal...................\n",
            "[CV 5/5; 11/12] END activation_function=linear, init=normal;, score=0.987 total time=   7.2s\n",
            "[CV 1/5; 12/12] START activation_function=linear, init=zero.....................\n",
            "[CV 1/5; 12/12] END activation_function=linear, init=zero;, score=0.000 total time=   4.5s\n",
            "[CV 2/5; 12/12] START activation_function=linear, init=zero.....................\n",
            "[CV 2/5; 12/12] END activation_function=linear, init=zero;, score=0.497 total time=   6.4s\n",
            "[CV 3/5; 12/12] START activation_function=linear, init=zero.....................\n",
            "[CV 3/5; 12/12] END activation_function=linear, init=zero;, score=0.268 total time=   4.4s\n",
            "[CV 4/5; 12/12] START activation_function=linear, init=zero.....................\n",
            "[CV 4/5; 12/12] END activation_function=linear, init=zero;, score=0.262 total time=   6.4s\n",
            "[CV 5/5; 12/12] START activation_function=linear, init=zero.....................\n",
            "[CV 5/5; 12/12] END activation_function=linear, init=zero;, score=0.000 total time=   6.7s\n"
          ]
        }
      ]
    },
    {
      "cell_type": "code",
      "source": [
        "# Summarize the results\n",
        "print('Best : {}, using {}'.format(grid_result3.best_score_,grid_result3.best_params_))\n",
        "means3 = grid_result3.cv_results_['mean_test_score']\n",
        "stds3 = grid_result3.cv_results_['std_test_score']\n",
        "params3 = grid_result3.cv_results_['params']\n",
        "for mean, stdev, param in zip(means3, stds3, params3):\n",
        "  print('{},{} with: {}'.format(mean, stdev, param))\n",
        "#best activation function in our case would be Relu and Kernel Initializer is Uni"
      ],
      "metadata": {
        "colab": {
          "base_uri": "https://localhost:8080/"
        },
        "id": "T4EKk4yh8xdE",
        "outputId": "2d8be2d7-dff9-40b5-c06f-a6951b9d758c"
      },
      "execution_count": 27,
      "outputs": [
        {
          "output_type": "stream",
          "name": "stdout",
          "text": [
            "Best : 0.9892617464065552, using {'activation_function': 'tanh', 'init': 'normal'}\n",
            "0.386577183008194,0.27536742040690426 with: {'activation_function': 'softmax', 'init': 'uniform'}\n",
            "0.38916330486536027,0.27230293651433196 with: {'activation_function': 'softmax', 'init': 'normal'}\n",
            "0.3463087260723114,0.3054568819023423 with: {'activation_function': 'softmax', 'init': 'zero'}\n",
            "0.9839015603065491,0.011708937858887464 with: {'activation_function': 'relu', 'init': 'uniform'}\n",
            "0.9838926196098328,0.009103793020053798 with: {'activation_function': 'relu', 'init': 'normal'}\n",
            "0.20536912679672242,0.18780437310126746 with: {'activation_function': 'relu', 'init': 'zero'}\n",
            "0.9865771770477295,0.012734005434364312 with: {'activation_function': 'tanh', 'init': 'uniform'}\n",
            "0.9892617464065552,0.010904744405574391 with: {'activation_function': 'tanh', 'init': 'normal'}\n",
            "0.20536912679672242,0.18780437310126746 with: {'activation_function': 'tanh', 'init': 'zero'}\n",
            "0.9879194498062134,0.012302221484303532 with: {'activation_function': 'linear', 'init': 'uniform'}\n",
            "0.9879194617271423,0.010738252103338527 with: {'activation_function': 'linear', 'init': 'normal'}\n",
            "0.20536912679672242,0.18780437310126746 with: {'activation_function': 'linear', 'init': 'zero'}\n"
          ]
        }
      ]
    },
    {
      "cell_type": "markdown",
      "source": [
        "## Tuning of Hyperparameter :-Number of Neurons in activation layer\n"
      ],
      "metadata": {
        "id": "U_JhWfJo-gMP"
      }
    },
    {
      "cell_type": "code",
      "source": [
        "# Defining the model\n",
        "\n",
        "def create_model4(neuron1,neuron2):\n",
        "    model = Sequential()\n",
        "    model.add(Dense(neuron1,input_dim = 11,kernel_initializer = 'uniform',activation = 'relu'))\n",
        "    model.add(Dropout(0.2))\n",
        "    model.add(Dense(neuron2,input_dim = neuron1,kernel_initializer = 'uniform',activation = 'relu'))\n",
        "    model.add(Dropout(0.2))\n",
        "    model.add(Dense(1,activation = 'sigmoid'))\n",
        "    \n",
        "    adam = Adam(lr = 0.001)\n",
        "    model.compile(loss = 'binary_crossentropy',optimizer = adam,metrics = ['accuracy'])\n",
        "    return model\n",
        "\n",
        "# Create the model\n",
        "\n",
        "model4 = KerasClassifier(build_fn = create_model4,verbose = 0,batch_size = 20,epochs = 50)\n",
        "\n",
        "# Define the grid search parameters\n",
        "\n",
        "neuron1 = [4,8,14]\n",
        "neuron2 = [4,8,12]\n",
        "\n",
        "# Make a dictionary of the grid search parameters\n",
        "\n",
        "param_grids4 = dict(neuron1 = neuron1,neuron2 = neuron2)\n",
        "\n",
        "# Build and fit the GridSearchCV\n",
        "\n",
        "grid4 = GridSearchCV(estimator = model4,param_grid = param_grids4,cv = KFold(),verbose = 10)\n",
        "grid_result4 = grid4.fit(X_standardized,Y)"
      ],
      "metadata": {
        "colab": {
          "base_uri": "https://localhost:8080/"
        },
        "id": "duvvABSG-eX9",
        "outputId": "2844a990-7588-44c2-8360-b0658549eda7"
      },
      "execution_count": 28,
      "outputs": [
        {
          "output_type": "stream",
          "name": "stdout",
          "text": [
            "Fitting 5 folds for each of 9 candidates, totalling 45 fits\n",
            "[CV 1/5; 1/9] START neuron1=4, neuron2=4........................................\n",
            "[CV 1/5; 1/9] END .........neuron1=4, neuron2=4;, score=0.993 total time=   7.7s\n",
            "[CV 2/5; 1/9] START neuron1=4, neuron2=4........................................\n",
            "[CV 2/5; 1/9] END .........neuron1=4, neuron2=4;, score=0.980 total time=   6.3s\n",
            "[CV 3/5; 1/9] START neuron1=4, neuron2=4........................................\n",
            "[CV 3/5; 1/9] END .........neuron1=4, neuron2=4;, score=0.966 total time=   4.2s\n",
            "[CV 4/5; 1/9] START neuron1=4, neuron2=4........................................\n",
            "[CV 4/5; 1/9] END .........neuron1=4, neuron2=4;, score=0.973 total time=   6.4s\n",
            "[CV 5/5; 1/9] START neuron1=4, neuron2=4........................................\n",
            "[CV 5/5; 1/9] END .........neuron1=4, neuron2=4;, score=0.893 total time=   4.3s\n",
            "[CV 1/5; 2/9] START neuron1=4, neuron2=8........................................\n",
            "[CV 1/5; 2/9] END .........neuron1=4, neuron2=8;, score=1.000 total time=   4.0s\n",
            "[CV 2/5; 2/9] START neuron1=4, neuron2=8........................................\n",
            "[CV 2/5; 2/9] END .........neuron1=4, neuron2=8;, score=0.980 total time=   6.2s\n",
            "[CV 3/5; 2/9] START neuron1=4, neuron2=8........................................\n",
            "[CV 3/5; 2/9] END .........neuron1=4, neuron2=8;, score=0.966 total time=   6.2s\n",
            "[CV 4/5; 2/9] START neuron1=4, neuron2=8........................................\n",
            "[CV 4/5; 2/9] END .........neuron1=4, neuron2=8;, score=0.953 total time=   4.8s\n",
            "[CV 5/5; 2/9] START neuron1=4, neuron2=8........................................\n",
            "[CV 5/5; 2/9] END .........neuron1=4, neuron2=8;, score=0.966 total time=   7.1s\n",
            "[CV 1/5; 3/9] START neuron1=4, neuron2=12.......................................\n",
            "[CV 1/5; 3/9] END ........neuron1=4, neuron2=12;, score=0.993 total time=   5.3s\n",
            "[CV 2/5; 3/9] START neuron1=4, neuron2=12.......................................\n",
            "[CV 2/5; 3/9] END ........neuron1=4, neuron2=12;, score=0.966 total time=   4.2s\n",
            "[CV 3/5; 3/9] START neuron1=4, neuron2=12.......................................\n",
            "[CV 3/5; 3/9] END ........neuron1=4, neuron2=12;, score=0.966 total time=   4.2s\n",
            "[CV 4/5; 3/9] START neuron1=4, neuron2=12.......................................\n",
            "[CV 4/5; 3/9] END ........neuron1=4, neuron2=12;, score=1.000 total time=   5.0s\n",
            "[CV 5/5; 3/9] START neuron1=4, neuron2=12.......................................\n",
            "[CV 5/5; 3/9] END ........neuron1=4, neuron2=12;, score=0.960 total time=   4.1s\n",
            "[CV 1/5; 4/9] START neuron1=8, neuron2=4........................................\n",
            "[CV 1/5; 4/9] END .........neuron1=8, neuron2=4;, score=1.000 total time=   6.4s\n",
            "[CV 2/5; 4/9] START neuron1=8, neuron2=4........................................\n",
            "[CV 2/5; 4/9] END .........neuron1=8, neuron2=4;, score=0.973 total time=   6.4s\n",
            "[CV 3/5; 4/9] START neuron1=8, neuron2=4........................................\n",
            "[CV 3/5; 4/9] END .........neuron1=8, neuron2=4;, score=0.953 total time=   4.6s\n",
            "[CV 4/5; 4/9] START neuron1=8, neuron2=4........................................\n",
            "[CV 4/5; 4/9] END .........neuron1=8, neuron2=4;, score=0.993 total time=   4.7s\n",
            "[CV 5/5; 4/9] START neuron1=8, neuron2=4........................................\n",
            "[CV 5/5; 4/9] END .........neuron1=8, neuron2=4;, score=0.973 total time=   6.3s\n",
            "[CV 1/5; 5/9] START neuron1=8, neuron2=8........................................\n",
            "[CV 1/5; 5/9] END .........neuron1=8, neuron2=8;, score=0.993 total time=   5.7s\n",
            "[CV 2/5; 5/9] START neuron1=8, neuron2=8........................................\n",
            "[CV 2/5; 5/9] END .........neuron1=8, neuron2=8;, score=0.973 total time=   6.2s\n",
            "[CV 3/5; 5/9] START neuron1=8, neuron2=8........................................\n",
            "[CV 3/5; 5/9] END .........neuron1=8, neuron2=8;, score=0.966 total time=   6.2s\n",
            "[CV 4/5; 5/9] START neuron1=8, neuron2=8........................................\n",
            "[CV 4/5; 5/9] END .........neuron1=8, neuron2=8;, score=0.987 total time=   4.5s\n",
            "[CV 5/5; 5/9] START neuron1=8, neuron2=8........................................\n",
            "[CV 5/5; 5/9] END .........neuron1=8, neuron2=8;, score=0.960 total time=   6.0s\n",
            "[CV 1/5; 6/9] START neuron1=8, neuron2=12.......................................\n",
            "[CV 1/5; 6/9] END ........neuron1=8, neuron2=12;, score=0.993 total time=   6.5s\n",
            "[CV 2/5; 6/9] START neuron1=8, neuron2=12.......................................\n",
            "[CV 2/5; 6/9] END ........neuron1=8, neuron2=12;, score=0.980 total time=   6.5s\n",
            "[CV 3/5; 6/9] START neuron1=8, neuron2=12.......................................\n",
            "[CV 3/5; 6/9] END ........neuron1=8, neuron2=12;, score=0.966 total time=   4.9s\n",
            "[CV 4/5; 6/9] START neuron1=8, neuron2=12.......................................\n",
            "[CV 4/5; 6/9] END ........neuron1=8, neuron2=12;, score=0.980 total time=   6.3s\n",
            "[CV 5/5; 6/9] START neuron1=8, neuron2=12.......................................\n",
            "[CV 5/5; 6/9] END ........neuron1=8, neuron2=12;, score=0.993 total time=   6.2s\n",
            "[CV 1/5; 7/9] START neuron1=14, neuron2=4.......................................\n",
            "[CV 1/5; 7/9] END ........neuron1=14, neuron2=4;, score=1.000 total time=   5.1s\n",
            "[CV 2/5; 7/9] START neuron1=14, neuron2=4.......................................\n",
            "[CV 2/5; 7/9] END ........neuron1=14, neuron2=4;, score=0.987 total time=   6.5s\n",
            "[CV 3/5; 7/9] START neuron1=14, neuron2=4.......................................\n",
            "[CV 3/5; 7/9] END ........neuron1=14, neuron2=4;, score=0.960 total time=   6.3s\n",
            "[CV 4/5; 7/9] START neuron1=14, neuron2=4.......................................\n",
            "[CV 4/5; 7/9] END ........neuron1=14, neuron2=4;, score=0.987 total time=   4.4s\n",
            "[CV 5/5; 7/9] START neuron1=14, neuron2=4.......................................\n",
            "[CV 5/5; 7/9] END ........neuron1=14, neuron2=4;, score=0.973 total time=   4.3s\n",
            "[CV 1/5; 8/9] START neuron1=14, neuron2=8.......................................\n",
            "[CV 1/5; 8/9] END ........neuron1=14, neuron2=8;, score=0.993 total time=   6.3s\n",
            "[CV 2/5; 8/9] START neuron1=14, neuron2=8.......................................\n",
            "[CV 2/5; 8/9] END ........neuron1=14, neuron2=8;, score=0.980 total time=   5.2s\n",
            "[CV 3/5; 8/9] START neuron1=14, neuron2=8.......................................\n",
            "[CV 3/5; 8/9] END ........neuron1=14, neuron2=8;, score=0.973 total time=   6.3s\n",
            "[CV 4/5; 8/9] START neuron1=14, neuron2=8.......................................\n",
            "[CV 4/5; 8/9] END ........neuron1=14, neuron2=8;, score=0.993 total time=   4.4s\n",
            "[CV 5/5; 8/9] START neuron1=14, neuron2=8.......................................\n",
            "[CV 5/5; 8/9] END ........neuron1=14, neuron2=8;, score=0.980 total time=   6.8s\n",
            "[CV 1/5; 9/9] START neuron1=14, neuron2=12......................................\n",
            "[CV 1/5; 9/9] END .......neuron1=14, neuron2=12;, score=1.000 total time=   6.5s\n",
            "[CV 2/5; 9/9] START neuron1=14, neuron2=12......................................\n",
            "[CV 2/5; 9/9] END .......neuron1=14, neuron2=12;, score=0.987 total time=   6.4s\n",
            "[CV 3/5; 9/9] START neuron1=14, neuron2=12......................................\n",
            "[CV 3/5; 9/9] END .......neuron1=14, neuron2=12;, score=0.960 total time=   4.9s\n",
            "[CV 4/5; 9/9] START neuron1=14, neuron2=12......................................\n",
            "[CV 4/5; 9/9] END .......neuron1=14, neuron2=12;, score=0.987 total time=   5.2s\n",
            "[CV 5/5; 9/9] START neuron1=14, neuron2=12......................................\n",
            "[CV 5/5; 9/9] END .......neuron1=14, neuron2=12;, score=0.987 total time=   6.8s\n"
          ]
        }
      ]
    },
    {
      "cell_type": "code",
      "source": [
        "# Summarize the results\n",
        "print('Best : {}, using {}'.format(grid_result4.best_score_,grid_result4.best_params_))\n",
        "means4 = grid_result4.cv_results_['mean_test_score']\n",
        "stds4 = grid_result4.cv_results_['std_test_score']\n",
        "params4 = grid_result4.cv_results_['params']\n",
        "for mean, stdev, param in zip(means4, stds4, params4):\n",
        "  print('{},{} with: {}'.format(mean, stdev, param))\n",
        "\n",
        "#Best results are Neuron 1 = 4 and Neuron 2 = 4"
      ],
      "metadata": {
        "colab": {
          "base_uri": "https://localhost:8080/"
        },
        "id": "etP6EMzJ-p30",
        "outputId": "a6c1352c-ed13-4ca3-b4a4-335e49c7574e"
      },
      "execution_count": 29,
      "outputs": [
        {
          "output_type": "stream",
          "name": "stdout",
          "text": [
            "Best : 0.983901572227478, using {'neuron1': 14, 'neuron2': 8}\n",
            "0.9610827803611756,0.03536906575322425 with: {'neuron1': 4, 'neuron2': 4}\n",
            "0.9731543660163879,0.015882091247499525 with: {'neuron1': 4, 'neuron2': 8}\n",
            "0.9771901488304138,0.01622775740530606 with: {'neuron1': 4, 'neuron2': 12}\n",
            "0.9785234928131104,0.016657270623199737 with: {'neuron1': 8, 'neuron2': 4}\n",
            "0.975847864151001,0.012460365593102637 with: {'neuron1': 8, 'neuron2': 8}\n",
            "0.9825592875480652,0.010054295415091362 with: {'neuron1': 8, 'neuron2': 12}\n",
            "0.9812080383300781,0.013688645829500766 with: {'neuron1': 14, 'neuron2': 4}\n",
            "0.983901572227478,0.008064138091842667 with: {'neuron1': 14, 'neuron2': 8}\n",
            "0.9838925957679748,0.013151628316325529 with: {'neuron1': 14, 'neuron2': 12}\n"
          ]
        }
      ]
    },
    {
      "cell_type": "markdown",
      "source": [
        "## Hyperparameters all at once\n"
      ],
      "metadata": {
        "id": "rq49XjBa_28N"
      }
    },
    {
      "cell_type": "markdown",
      "source": [
        "The hyperparameter optimization was carried out by taking 2 hyperparameters at once. We may have missed the best values. The performance can be further improved by finding the optimum values of hyperparameters all at once given by the code snippet below.\n"
      ],
      "metadata": {
        "id": "gF0rXyOP_9ke"
      }
    },
    {
      "cell_type": "markdown",
      "source": [
        "## This process is computationally expensive.\n"
      ],
      "metadata": {
        "id": "hdqLqaTGABVm"
      }
    },
    {
      "cell_type": "code",
      "source": [
        "# Defining the model\n",
        "\n",
        "def create_model_fnl():\n",
        "    model = Sequential()\n",
        "    model.add(Dense(4,input_dim = 11,kernel_initializer = 'uniform',activation = 'relu'))\n",
        "    model.add(Dropout(0.2))\n",
        "    model.add(Dense(4,input_dim = 4,kernel_initializer = 'uniform',activation = 'relu'))\n",
        "    model.add(Dropout(0.2))\n",
        "    model.add(Dense(1,activation = 'sigmoid'))\n",
        "    \n",
        "    adam = Adam(lr = 0.001) #sgd = SGD(lr=learning_rate, momentum=momentum, decay=decay_rate, nesterov=False)\n",
        "    model.compile(loss = 'binary_crossentropy',optimizer = adam,metrics = ['accuracy'])\n",
        "    return model\n",
        "\n",
        "# Create the model\n",
        "model_fnl = KerasClassifier(build_fn = create_model_fnl,verbose = 0,batch_size = 20,epochs = 50)\n",
        "#Making training and Testing Data\n",
        "X_train_1, X_test_1, y_train_1, y_test_1 = train_test_split(X_standardized,Y, test_size = 0.3)\n",
        "# Fitting the model\n",
        "hist2 = model_fnl.fit(X_train_1,y_train_1)"
      ],
      "metadata": {
        "id": "flTqzV8V_0ZW"
      },
      "execution_count": 30,
      "outputs": []
    },
    {
      "cell_type": "code",
      "source": [
        "\n",
        "from sklearn.metrics import confusion_matrix,classification_report\n",
        "from mlxtend.plotting import plot_confusion_matrix\n",
        "def report_model(model):\n",
        "    model_preds = model.predict(X_test_1)\n",
        "    print(confusion_matrix(y_test_1,model_preds))\n",
        "    print(classification_report(y_test_1,model_preds))\n",
        "report_model(model_fnl)"
      ],
      "metadata": {
        "colab": {
          "base_uri": "https://localhost:8080/"
        },
        "id": "gUrCug81AJHM",
        "outputId": "b88700b6-77a6-49f6-f8c6-63be79c21bc6"
      },
      "execution_count": 39,
      "outputs": [
        {
          "output_type": "stream",
          "name": "stdout",
          "text": [
            "7/7 [==============================] - 0s 3ms/step\n",
            "[[ 86  35]\n",
            " [  0 103]]\n",
            "              precision    recall  f1-score   support\n",
            "\n",
            "           0       1.00      0.71      0.83       121\n",
            "           1       0.75      1.00      0.85       103\n",
            "\n",
            "    accuracy                           0.84       224\n",
            "   macro avg       0.87      0.86      0.84       224\n",
            "weighted avg       0.88      0.84      0.84       224\n",
            "\n"
          ]
        }
      ]
    },
    {
      "cell_type": "code",
      "source": [],
      "metadata": {
        "id": "tPDsOB12AN1n"
      },
      "execution_count": null,
      "outputs": []
    }
  ]
}